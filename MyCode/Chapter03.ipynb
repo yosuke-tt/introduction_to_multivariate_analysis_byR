{
 "cells": [
  {
   "cell_type": "markdown",
   "metadata": {},
   "source": [
    "# 第3章 現象を説明・予測する統計モデルを作りたい(1) <br> ----重回帰分析"
   ]
  },
  {
   "cell_type": "markdown",
   "metadata": {},
   "source": [
    "今回から回帰が入ってきてかっこよくなってくる。\\\n",
    "前回から、データをDataFrameに入れたとき、本のままの変数名にするか、df_nameのようにするかごちゃごちゃだった。\\\n",
    "今回から統一的に、df_本での変数名、で行こうと思う。"
   ]
  },
  {
   "cell_type": "code",
   "execution_count": 1,
   "metadata": {},
   "outputs": [],
   "source": [
    "import pandas as pd\n",
    "import numpy as np \n",
    "import matplotlib.pyplot as plt"
   ]
  },
  {
   "cell_type": "markdown",
   "metadata": {},
   "source": [
    "今回は、sklearnかscipy.statsを使いそうだが、今のところおいとく"
   ]
  },
  {
   "cell_type": "markdown",
   "metadata": {},
   "source": [
    "## データと手法の概要"
   ]
  },
  {
   "cell_type": "markdown",
   "metadata": {},
   "source": [
    "### データの概要 "
   ]
  },
  {
   "cell_type": "markdown",
   "metadata": {},
   "source": [
    "### 分析の目的と概要"
   ]
  },
  {
   "cell_type": "markdown",
   "metadata": {},
   "source": [
    "## モデルの作成と母数の推定・診断"
   ]
  },
  {
   "cell_type": "markdown",
   "metadata": {},
   "source": [
    "### モデルの作成と母数の推定 "
   ]
  },
  {
   "cell_type": "code",
   "execution_count": 2,
   "metadata": {},
   "outputs": [],
   "source": [
    "df_csdat = pd.read_csv(\"../data/第03章/顧客満足度データ.csv\", encoding=\"shift-jis\")"
   ]
  },
  {
   "cell_type": "code",
   "execution_count": 3,
   "metadata": {},
   "outputs": [
    {
     "data": {
      "text/html": [
       "<div>\n",
       "<style scoped>\n",
       "    .dataframe tbody tr th:only-of-type {\n",
       "        vertical-align: middle;\n",
       "    }\n",
       "\n",
       "    .dataframe tbody tr th {\n",
       "        vertical-align: top;\n",
       "    }\n",
       "\n",
       "    .dataframe thead th {\n",
       "        text-align: right;\n",
       "    }\n",
       "</style>\n",
       "<table border=\"1\" class=\"dataframe\">\n",
       "  <thead>\n",
       "    <tr style=\"text-align: right;\">\n",
       "      <th></th>\n",
       "      <th>店舗番号</th>\n",
       "      <th>顧客数</th>\n",
       "      <th>立地満足度</th>\n",
       "      <th>設備満足度</th>\n",
       "      <th>店舗面積満足度</th>\n",
       "      <th>トレーナー満足度</th>\n",
       "      <th>トレーナー数</th>\n",
       "      <th>接客研修</th>\n",
       "      <th>入会特典</th>\n",
       "    </tr>\n",
       "  </thead>\n",
       "  <tbody>\n",
       "    <tr>\n",
       "      <th>0</th>\n",
       "      <td>1</td>\n",
       "      <td>595</td>\n",
       "      <td>4.2</td>\n",
       "      <td>5.4</td>\n",
       "      <td>5.9</td>\n",
       "      <td>6.8</td>\n",
       "      <td>12</td>\n",
       "      <td>0</td>\n",
       "      <td>1</td>\n",
       "    </tr>\n",
       "    <tr>\n",
       "      <th>1</th>\n",
       "      <td>2</td>\n",
       "      <td>483</td>\n",
       "      <td>4.7</td>\n",
       "      <td>4.1</td>\n",
       "      <td>3.6</td>\n",
       "      <td>6.1</td>\n",
       "      <td>11</td>\n",
       "      <td>0</td>\n",
       "      <td>0</td>\n",
       "    </tr>\n",
       "    <tr>\n",
       "      <th>2</th>\n",
       "      <td>3</td>\n",
       "      <td>601</td>\n",
       "      <td>7.5</td>\n",
       "      <td>6.3</td>\n",
       "      <td>5.5</td>\n",
       "      <td>5.6</td>\n",
       "      <td>11</td>\n",
       "      <td>1</td>\n",
       "      <td>0</td>\n",
       "    </tr>\n",
       "  </tbody>\n",
       "</table>\n",
       "</div>"
      ],
      "text/plain": [
       "   店舗番号  顧客数  立地満足度  設備満足度  店舗面積満足度  トレーナー満足度  トレーナー数  接客研修  入会特典\n",
       "0     1  595    4.2    5.4      5.9       6.8      12     0     1\n",
       "1     2  483    4.7    4.1      3.6       6.1      11     0     0\n",
       "2     3  601    7.5    6.3      5.5       5.6      11     1     0"
      ]
     },
     "execution_count": 3,
     "metadata": {},
     "output_type": "execute_result"
    }
   ],
   "source": [
    "df_csdat[:3]"
   ]
  },
  {
   "cell_type": "code",
   "execution_count": 4,
   "metadata": {},
   "outputs": [],
   "source": [
    "from sklearn.linear_model import LinearRegression\n",
    "lm = LinearRegression()"
   ]
  },
  {
   "cell_type": "code",
   "execution_count": 5,
   "metadata": {},
   "outputs": [],
   "source": [
    "y = df_csdat.顧客数\n",
    "X = df_csdat[ [\"立地満足度\",\"設備満足度\", \"店舗面積満足度\", \"トレーナー満足度\"] ]"
   ]
  },
  {
   "cell_type": "code",
   "execution_count": 6,
   "metadata": {},
   "outputs": [
    {
     "data": {
      "text/plain": [
       "LinearRegression(copy_X=True, fit_intercept=True, n_jobs=None, normalize=False)"
      ]
     },
     "execution_count": 6,
     "metadata": {},
     "output_type": "execute_result"
    }
   ],
   "source": [
    "lm.fit(X,y)"
   ]
  },
  {
   "cell_type": "code",
   "execution_count": 7,
   "metadata": {},
   "outputs": [
    {
     "data": {
      "text/plain": [
       "array([29.10529033, 21.63967779, 23.80296014, 32.42134205])"
      ]
     },
     "execution_count": 7,
     "metadata": {},
     "output_type": "execute_result"
    }
   ],
   "source": [
    "lm.coef_"
   ]
  },
  {
   "cell_type": "code",
   "execution_count": 8,
   "metadata": {},
   "outputs": [
    {
     "data": {
      "text/plain": [
       "-35.20448824889132"
      ]
     },
     "execution_count": 8,
     "metadata": {},
     "output_type": "execute_result"
    }
   ],
   "source": [
    "lm.intercept_"
   ]
  },
  {
   "cell_type": "markdown",
   "metadata": {},
   "source": [
    "sklearnだと各種の係数の統計量が見れないので、StatsModelを用いる"
   ]
  },
  {
   "cell_type": "code",
   "execution_count": 9,
   "metadata": {},
   "outputs": [],
   "source": [
    "import statsmodels.api as sm\n",
    "from statsmodels.formula.api import ols"
   ]
  },
  {
   "cell_type": "code",
   "execution_count": 10,
   "metadata": {},
   "outputs": [
    {
     "data": {
      "text/html": [
       "<table class=\"simpletable\">\n",
       "<caption>OLS Regression Results</caption>\n",
       "<tr>\n",
       "  <th>Dep. Variable:</th>           <td>顧客数</td>       <th>  R-squared:         </th> <td>   0.825</td>\n",
       "</tr>\n",
       "<tr>\n",
       "  <th>Model:</th>                   <td>OLS</td>       <th>  Adj. R-squared:    </th> <td>   0.797</td>\n",
       "</tr>\n",
       "<tr>\n",
       "  <th>Method:</th>             <td>Least Squares</td>  <th>  F-statistic:       </th> <td>   29.43</td>\n",
       "</tr>\n",
       "<tr>\n",
       "  <th>Date:</th>             <td>Fri, 13 Mar 2020</td> <th>  Prob (F-statistic):</th> <td>3.96e-09</td>\n",
       "</tr>\n",
       "<tr>\n",
       "  <th>Time:</th>                 <td>23:24:01</td>     <th>  Log-Likelihood:    </th> <td> -154.11</td>\n",
       "</tr>\n",
       "<tr>\n",
       "  <th>No. Observations:</th>      <td>    30</td>      <th>  AIC:               </th> <td>   318.2</td>\n",
       "</tr>\n",
       "<tr>\n",
       "  <th>Df Residuals:</th>          <td>    25</td>      <th>  BIC:               </th> <td>   325.2</td>\n",
       "</tr>\n",
       "<tr>\n",
       "  <th>Df Model:</th>              <td>     4</td>      <th>                     </th>     <td> </td>   \n",
       "</tr>\n",
       "<tr>\n",
       "  <th>Covariance Type:</th>      <td>nonrobust</td>    <th>                     </th>     <td> </td>   \n",
       "</tr>\n",
       "</table>\n",
       "<table class=\"simpletable\">\n",
       "<tr>\n",
       "      <td></td>         <th>coef</th>     <th>std err</th>      <th>t</th>      <th>P>|t|</th>  <th>[0.025</th>    <th>0.975]</th>  \n",
       "</tr>\n",
       "<tr>\n",
       "  <th>Intercept</th> <td>  -35.2045</td> <td>   50.659</td> <td>   -0.695</td> <td> 0.494</td> <td> -139.538</td> <td>   69.129</td>\n",
       "</tr>\n",
       "<tr>\n",
       "  <th>立地満足度</th>     <td>   29.1053</td> <td>    5.684</td> <td>    5.120</td> <td> 0.000</td> <td>   17.398</td> <td>   40.812</td>\n",
       "</tr>\n",
       "<tr>\n",
       "  <th>設備満足度</th>     <td>   21.6397</td> <td>    7.036</td> <td>    3.076</td> <td> 0.005</td> <td>    7.149</td> <td>   36.130</td>\n",
       "</tr>\n",
       "<tr>\n",
       "  <th>店舗面積満足度</th>   <td>   23.8030</td> <td>    6.971</td> <td>    3.414</td> <td> 0.002</td> <td>    9.445</td> <td>   38.161</td>\n",
       "</tr>\n",
       "<tr>\n",
       "  <th>トレーナー満足度</th>  <td>   32.4213</td> <td>    5.608</td> <td>    5.781</td> <td> 0.000</td> <td>   20.872</td> <td>   43.971</td>\n",
       "</tr>\n",
       "</table>\n",
       "<table class=\"simpletable\">\n",
       "<tr>\n",
       "  <th>Omnibus:</th>       <td> 1.851</td> <th>  Durbin-Watson:     </th> <td>   2.505</td>\n",
       "</tr>\n",
       "<tr>\n",
       "  <th>Prob(Omnibus):</th> <td> 0.396</td> <th>  Jarque-Bera (JB):  </th> <td>   1.479</td>\n",
       "</tr>\n",
       "<tr>\n",
       "  <th>Skew:</th>          <td> 0.533</td> <th>  Prob(JB):          </th> <td>   0.477</td>\n",
       "</tr>\n",
       "<tr>\n",
       "  <th>Kurtosis:</th>      <td> 2.780</td> <th>  Cond. No.          </th> <td>    63.0</td>\n",
       "</tr>\n",
       "</table><br/><br/>Warnings:<br/>[1] Standard Errors assume that the covariance matrix of the errors is correctly specified."
      ],
      "text/plain": [
       "<class 'statsmodels.iolib.summary.Summary'>\n",
       "\"\"\"\n",
       "                            OLS Regression Results                            \n",
       "==============================================================================\n",
       "Dep. Variable:                    顧客数   R-squared:                       0.825\n",
       "Model:                            OLS   Adj. R-squared:                  0.797\n",
       "Method:                 Least Squares   F-statistic:                     29.43\n",
       "Date:                Fri, 13 Mar 2020   Prob (F-statistic):           3.96e-09\n",
       "Time:                        23:24:01   Log-Likelihood:                -154.11\n",
       "No. Observations:                  30   AIC:                             318.2\n",
       "Df Residuals:                      25   BIC:                             325.2\n",
       "Df Model:                           4                                         \n",
       "Covariance Type:            nonrobust                                         \n",
       "==============================================================================\n",
       "                 coef    std err          t      P>|t|      [0.025      0.975]\n",
       "------------------------------------------------------------------------------\n",
       "Intercept    -35.2045     50.659     -0.695      0.494    -139.538      69.129\n",
       "立地満足度         29.1053      5.684      5.120      0.000      17.398      40.812\n",
       "設備満足度         21.6397      7.036      3.076      0.005       7.149      36.130\n",
       "店舗面積満足度       23.8030      6.971      3.414      0.002       9.445      38.161\n",
       "トレーナー満足度      32.4213      5.608      5.781      0.000      20.872      43.971\n",
       "==============================================================================\n",
       "Omnibus:                        1.851   Durbin-Watson:                   2.505\n",
       "Prob(Omnibus):                  0.396   Jarque-Bera (JB):                1.479\n",
       "Skew:                           0.533   Prob(JB):                        0.477\n",
       "Kurtosis:                       2.780   Cond. No.                         63.0\n",
       "==============================================================================\n",
       "\n",
       "Warnings:\n",
       "[1] Standard Errors assume that the covariance matrix of the errors is correctly specified.\n",
       "\"\"\""
      ]
     },
     "execution_count": 10,
     "metadata": {},
     "output_type": "execute_result"
    }
   ],
   "source": [
    "model = ols(formula=\"顧客数 ~ 立地満足度+設備満足度+店舗面積満足度+トレーナー満足度\", data=df_csdat)\n",
    "res1 = model.fit()\n",
    "res1.summary()"
   ]
  },
  {
   "cell_type": "markdown",
   "metadata": {},
   "source": [
    "書き方は~使うあたりRなんかに似てる。答えも大体一致している。\\\n",
    "また、Rの結果には出ていない、AIC, BIC(のちに出る)物なども表示していてよい感じ。\\\n",
    "statsmodelは一般線形化モデルなどさまざまなものができるらしい。初めて知った。\\\n"
   ]
  },
  {
   "cell_type": "markdown",
   "metadata": {},
   "source": [
    "### 推定結果の診断---多重共線性のチェック "
   ]
  },
  {
   "cell_type": "markdown",
   "metadata": {},
   "source": [
    "相関係数を見る。pythonだとseabornのheatmapがよく使われるので一応やってみる。"
   ]
  },
  {
   "cell_type": "code",
   "execution_count": 11,
   "metadata": {},
   "outputs": [],
   "source": [
    "import seaborn as sns\n",
    "import japanize_matplotlib"
   ]
  },
  {
   "cell_type": "code",
   "execution_count": 12,
   "metadata": {},
   "outputs": [
    {
     "data": {
      "text/plain": [
       "<matplotlib.axes._subplots.AxesSubplot at 0x27c26f82788>"
      ]
     },
     "execution_count": 12,
     "metadata": {},
     "output_type": "execute_result"
    },
    {
     "data": {
      "image/png": "[encoded data removed]",
      "text/plain": [
       "<Figure size 576x576 with 2 Axes>"
      ]
     },
     "metadata": {
      "needs_background": "light"
     },
     "output_type": "display_data"
    }
   ],
   "source": [
    "plt.figure(figsize = (8,8))\n",
    "corr_mat = df_csdat.corr()\n",
    "sns.heatmap(corr_mat,\n",
    "           annot=True,\n",
    "           square=True,\n",
    "            )"
   ]
  },
  {
   "cell_type": "code",
   "execution_count": 13,
   "metadata": {},
   "outputs": [
    {
     "data": {
      "text/html": [
       "<div>\n",
       "<style scoped>\n",
       "    .dataframe tbody tr th:only-of-type {\n",
       "        vertical-align: middle;\n",
       "    }\n",
       "\n",
       "    .dataframe tbody tr th {\n",
       "        vertical-align: top;\n",
       "    }\n",
       "\n",
       "    .dataframe thead th {\n",
       "        text-align: right;\n",
       "    }\n",
       "</style>\n",
       "<table border=\"1\" class=\"dataframe\">\n",
       "  <thead>\n",
       "    <tr style=\"text-align: right;\">\n",
       "      <th></th>\n",
       "      <th>トレーナー満足度</th>\n",
       "      <th>トレーナー数</th>\n",
       "    </tr>\n",
       "  </thead>\n",
       "  <tbody>\n",
       "    <tr>\n",
       "      <th>トレーナー満足度</th>\n",
       "      <td>1.000000</td>\n",
       "      <td>0.984321</td>\n",
       "    </tr>\n",
       "    <tr>\n",
       "      <th>トレーナー数</th>\n",
       "      <td>0.984321</td>\n",
       "      <td>1.000000</td>\n",
       "    </tr>\n",
       "  </tbody>\n",
       "</table>\n",
       "</div>"
      ],
      "text/plain": [
       "          トレーナー満足度    トレーナー数\n",
       "トレーナー満足度  1.000000  0.984321\n",
       "トレーナー数    0.984321  1.000000"
      ]
     },
     "execution_count": 13,
     "metadata": {},
     "output_type": "execute_result"
    }
   ],
   "source": [
    "df_csdat[[\"トレーナー満足度\", \"トレーナー数\"]].corr()"
   ]
  },
  {
   "cell_type": "code",
   "execution_count": 14,
   "metadata": {},
   "outputs": [
    {
     "data": {
      "text/plain": [
       "<matplotlib.axes._subplots.AxesSubplot at 0x27c2942ebc8>"
      ]
     },
     "execution_count": 14,
     "metadata": {},
     "output_type": "execute_result"
    },
    {
     "data": {
      "image/png": "[encoded data removed]",
      "text/plain": [
       "<Figure size 432x288 with 1 Axes>"
      ]
     },
     "metadata": {
      "needs_background": "light"
     },
     "output_type": "display_data"
    }
   ],
   "source": [
    "df_csdat.plot.scatter(\"トレーナー満足度\", \"トレーナー数\")"
   ]
  },
  {
   "cell_type": "code",
   "execution_count": 15,
   "metadata": {},
   "outputs": [
    {
     "data": {
      "text/html": [
       "<table class=\"simpletable\">\n",
       "<caption>OLS Regression Results</caption>\n",
       "<tr>\n",
       "  <th>Dep. Variable:</th>           <td>顧客数</td>       <th>  R-squared:         </th> <td>   0.310</td>\n",
       "</tr>\n",
       "<tr>\n",
       "  <th>Model:</th>                   <td>OLS</td>       <th>  Adj. R-squared:    </th> <td>   0.285</td>\n",
       "</tr>\n",
       "<tr>\n",
       "  <th>Method:</th>             <td>Least Squares</td>  <th>  F-statistic:       </th> <td>   12.56</td>\n",
       "</tr>\n",
       "<tr>\n",
       "  <th>Date:</th>             <td>Fri, 13 Mar 2020</td> <th>  Prob (F-statistic):</th>  <td>0.00141</td>\n",
       "</tr>\n",
       "<tr>\n",
       "  <th>Time:</th>                 <td>23:24:02</td>     <th>  Log-Likelihood:    </th> <td> -174.68</td>\n",
       "</tr>\n",
       "<tr>\n",
       "  <th>No. Observations:</th>      <td>    30</td>      <th>  AIC:               </th> <td>   353.4</td>\n",
       "</tr>\n",
       "<tr>\n",
       "  <th>Df Residuals:</th>          <td>    28</td>      <th>  BIC:               </th> <td>   356.2</td>\n",
       "</tr>\n",
       "<tr>\n",
       "  <th>Df Model:</th>              <td>     1</td>      <th>                     </th>     <td> </td>   \n",
       "</tr>\n",
       "<tr>\n",
       "  <th>Covariance Type:</th>      <td>nonrobust</td>    <th>                     </th>     <td> </td>   \n",
       "</tr>\n",
       "</table>\n",
       "<table class=\"simpletable\">\n",
       "<tr>\n",
       "      <td></td>         <th>coef</th>     <th>std err</th>      <th>t</th>      <th>P>|t|</th>  <th>[0.025</th>    <th>0.975]</th>  \n",
       "</tr>\n",
       "<tr>\n",
       "  <th>Intercept</th> <td>  314.0432</td> <td>   54.686</td> <td>    5.743</td> <td> 0.000</td> <td>  202.023</td> <td>  426.063</td>\n",
       "</tr>\n",
       "<tr>\n",
       "  <th>トレーナー満足度</th>  <td>   37.0858</td> <td>   10.464</td> <td>    3.544</td> <td> 0.001</td> <td>   15.652</td> <td>   58.520</td>\n",
       "</tr>\n",
       "</table>\n",
       "<table class=\"simpletable\">\n",
       "<tr>\n",
       "  <th>Omnibus:</th>       <td> 1.948</td> <th>  Durbin-Watson:     </th> <td>   2.397</td>\n",
       "</tr>\n",
       "<tr>\n",
       "  <th>Prob(Omnibus):</th> <td> 0.378</td> <th>  Jarque-Bera (JB):  </th> <td>   1.052</td>\n",
       "</tr>\n",
       "<tr>\n",
       "  <th>Skew:</th>          <td> 0.443</td> <th>  Prob(JB):          </th> <td>   0.591</td>\n",
       "</tr>\n",
       "<tr>\n",
       "  <th>Kurtosis:</th>      <td> 3.240</td> <th>  Cond. No.          </th> <td>    19.1</td>\n",
       "</tr>\n",
       "</table><br/><br/>Warnings:<br/>[1] Standard Errors assume that the covariance matrix of the errors is correctly specified."
      ],
      "text/plain": [
       "<class 'statsmodels.iolib.summary.Summary'>\n",
       "\"\"\"\n",
       "                            OLS Regression Results                            \n",
       "==============================================================================\n",
       "Dep. Variable:                    顧客数   R-squared:                       0.310\n",
       "Model:                            OLS   Adj. R-squared:                  0.285\n",
       "Method:                 Least Squares   F-statistic:                     12.56\n",
       "Date:                Fri, 13 Mar 2020   Prob (F-statistic):            0.00141\n",
       "Time:                        23:24:02   Log-Likelihood:                -174.68\n",
       "No. Observations:                  30   AIC:                             353.4\n",
       "Df Residuals:                      28   BIC:                             356.2\n",
       "Df Model:                           1                                         \n",
       "Covariance Type:            nonrobust                                         \n",
       "==============================================================================\n",
       "                 coef    std err          t      P>|t|      [0.025      0.975]\n",
       "------------------------------------------------------------------------------\n",
       "Intercept    314.0432     54.686      5.743      0.000     202.023     426.063\n",
       "トレーナー満足度      37.0858     10.464      3.544      0.001      15.652      58.520\n",
       "==============================================================================\n",
       "Omnibus:                        1.948   Durbin-Watson:                   2.397\n",
       "Prob(Omnibus):                  0.378   Jarque-Bera (JB):                1.052\n",
       "Skew:                           0.443   Prob(JB):                        0.591\n",
       "Kurtosis:                       3.240   Cond. No.                         19.1\n",
       "==============================================================================\n",
       "\n",
       "Warnings:\n",
       "[1] Standard Errors assume that the covariance matrix of the errors is correctly specified.\n",
       "\"\"\""
      ]
     },
     "execution_count": 15,
     "metadata": {},
     "output_type": "execute_result"
    }
   ],
   "source": [
    "model1 = ols(formula=\"顧客数 ~ トレーナー満足度\", data=df_csdat)\n",
    "resm1 = model1.fit()\n",
    "resm1.summary()"
   ]
  },
  {
   "cell_type": "code",
   "execution_count": 16,
   "metadata": {},
   "outputs": [
    {
     "data": {
      "text/html": [
       "<table class=\"simpletable\">\n",
       "<caption>OLS Regression Results</caption>\n",
       "<tr>\n",
       "  <th>Dep. Variable:</th>           <td>顧客数</td>       <th>  R-squared:         </th> <td>   0.310</td>\n",
       "</tr>\n",
       "<tr>\n",
       "  <th>Model:</th>                   <td>OLS</td>       <th>  Adj. R-squared:    </th> <td>   0.285</td>\n",
       "</tr>\n",
       "<tr>\n",
       "  <th>Method:</th>             <td>Least Squares</td>  <th>  F-statistic:       </th> <td>   12.56</td>\n",
       "</tr>\n",
       "<tr>\n",
       "  <th>Date:</th>             <td>Fri, 13 Mar 2020</td> <th>  Prob (F-statistic):</th>  <td>0.00141</td>\n",
       "</tr>\n",
       "<tr>\n",
       "  <th>Time:</th>                 <td>23:24:02</td>     <th>  Log-Likelihood:    </th> <td> -174.68</td>\n",
       "</tr>\n",
       "<tr>\n",
       "  <th>No. Observations:</th>      <td>    30</td>      <th>  AIC:               </th> <td>   353.4</td>\n",
       "</tr>\n",
       "<tr>\n",
       "  <th>Df Residuals:</th>          <td>    28</td>      <th>  BIC:               </th> <td>   356.2</td>\n",
       "</tr>\n",
       "<tr>\n",
       "  <th>Df Model:</th>              <td>     1</td>      <th>                     </th>     <td> </td>   \n",
       "</tr>\n",
       "<tr>\n",
       "  <th>Covariance Type:</th>      <td>nonrobust</td>    <th>                     </th>     <td> </td>   \n",
       "</tr>\n",
       "</table>\n",
       "<table class=\"simpletable\">\n",
       "<tr>\n",
       "      <td></td>         <th>coef</th>     <th>std err</th>      <th>t</th>      <th>P>|t|</th>  <th>[0.025</th>    <th>0.975]</th>  \n",
       "</tr>\n",
       "<tr>\n",
       "  <th>Intercept</th> <td>  314.0432</td> <td>   54.686</td> <td>    5.743</td> <td> 0.000</td> <td>  202.023</td> <td>  426.063</td>\n",
       "</tr>\n",
       "<tr>\n",
       "  <th>トレーナー満足度</th>  <td>   37.0858</td> <td>   10.464</td> <td>    3.544</td> <td> 0.001</td> <td>   15.652</td> <td>   58.520</td>\n",
       "</tr>\n",
       "</table>\n",
       "<table class=\"simpletable\">\n",
       "<tr>\n",
       "  <th>Omnibus:</th>       <td> 1.948</td> <th>  Durbin-Watson:     </th> <td>   2.397</td>\n",
       "</tr>\n",
       "<tr>\n",
       "  <th>Prob(Omnibus):</th> <td> 0.378</td> <th>  Jarque-Bera (JB):  </th> <td>   1.052</td>\n",
       "</tr>\n",
       "<tr>\n",
       "  <th>Skew:</th>          <td> 0.443</td> <th>  Prob(JB):          </th> <td>   0.591</td>\n",
       "</tr>\n",
       "<tr>\n",
       "  <th>Kurtosis:</th>      <td> 3.240</td> <th>  Cond. No.          </th> <td>    19.1</td>\n",
       "</tr>\n",
       "</table><br/><br/>Warnings:<br/>[1] Standard Errors assume that the covariance matrix of the errors is correctly specified."
      ],
      "text/plain": [
       "<class 'statsmodels.iolib.summary.Summary'>\n",
       "\"\"\"\n",
       "                            OLS Regression Results                            \n",
       "==============================================================================\n",
       "Dep. Variable:                    顧客数   R-squared:                       0.310\n",
       "Model:                            OLS   Adj. R-squared:                  0.285\n",
       "Method:                 Least Squares   F-statistic:                     12.56\n",
       "Date:                Fri, 13 Mar 2020   Prob (F-statistic):            0.00141\n",
       "Time:                        23:24:02   Log-Likelihood:                -174.68\n",
       "No. Observations:                  30   AIC:                             353.4\n",
       "Df Residuals:                      28   BIC:                             356.2\n",
       "Df Model:                           1                                         \n",
       "Covariance Type:            nonrobust                                         \n",
       "==============================================================================\n",
       "                 coef    std err          t      P>|t|      [0.025      0.975]\n",
       "------------------------------------------------------------------------------\n",
       "Intercept    314.0432     54.686      5.743      0.000     202.023     426.063\n",
       "トレーナー満足度      37.0858     10.464      3.544      0.001      15.652      58.520\n",
       "==============================================================================\n",
       "Omnibus:                        1.948   Durbin-Watson:                   2.397\n",
       "Prob(Omnibus):                  0.378   Jarque-Bera (JB):                1.052\n",
       "Skew:                           0.443   Prob(JB):                        0.591\n",
       "Kurtosis:                       3.240   Cond. No.                         19.1\n",
       "==============================================================================\n",
       "\n",
       "Warnings:\n",
       "[1] Standard Errors assume that the covariance matrix of the errors is correctly specified.\n",
       "\"\"\""
      ]
     },
     "execution_count": 16,
     "metadata": {},
     "output_type": "execute_result"
    }
   ],
   "source": [
    "model2 = ols(formula=\"顧客数 ~ トレーナー満足度+トレーナー数\", data=df_csdat)\n",
    "resm2 = model1.fit()\n",
    "resm2.summary()"
   ]
  },
  {
   "cell_type": "markdown",
   "metadata": {},
   "source": [
    "多重共線性については、いかがわかりやすかった。\\\n",
    "https://qiita.com/fhiyo/items/6d4faa7c26d46022ac09"
   ]
  },
  {
   "cell_type": "code",
   "execution_count": 17,
   "metadata": {},
   "outputs": [
    {
     "data": {
      "text/plain": [
       "[<matplotlib.lines.Line2D at 0x27c294f7948>]"
      ]
     },
     "execution_count": 17,
     "metadata": {},
     "output_type": "execute_result"
    },
    {
     "data": {
      "image/png": "[encoded data removed]",
      "text/plain": [
       "<Figure size 432x288 with 1 Axes>"
      ]
     },
     "metadata": {
      "needs_background": "light"
     },
     "output_type": "display_data"
    }
   ],
   "source": [
    "plt.scatter(df_csdat[\"トレーナー満足度\"], df_csdat[\"顧客数\"])\n",
    "plt.plot((df_csdat[\"トレーナー満足度\"].min(), df_csdat[\"トレーナー満足度\"].max()), (resm1.predict().min(), resm1.predict().max()), label=\"resm1\", color = \"blue\")\n",
    "plt.plot((df_csdat[\"トレーナー満足度\"].min(), df_csdat[\"トレーナー満足度\"].max()), (resm2.predict().min(), resm2.predict().max()), label=\"resm2\", color = \"red\")"
   ]
  },
  {
   "cell_type": "code",
   "execution_count": 18,
   "metadata": {},
   "outputs": [],
   "source": [
    "from statsmodels.stats.outliers_influence import variance_inflation_factor\n",
    " "
   ]
  },
  {
   "cell_type": "code",
   "execution_count": 19,
   "metadata": {},
   "outputs": [],
   "source": [
    "data_x = df_csdat[[\"トレーナー満足度\", \"トレーナー数\"]]"
   ]
  },
  {
   "cell_type": "code",
   "execution_count": 20,
   "metadata": {},
   "outputs": [],
   "source": [
    "vifs2 = [variance_inflation_factor(model2.exog, i) for i in range(1,model2.exog.shape[1])]"
   ]
  },
  {
   "cell_type": "code",
   "execution_count": 21,
   "metadata": {},
   "outputs": [
    {
     "data": {
      "text/plain": [
       "[32.14226120710297, 32.14226120710297]"
      ]
     },
     "execution_count": 21,
     "metadata": {},
     "output_type": "execute_result"
    }
   ],
   "source": [
    "vifs2"
   ]
  },
  {
   "cell_type": "code",
   "execution_count": 22,
   "metadata": {},
   "outputs": [
    {
     "data": {
      "text/plain": [
       "[1.0421063305308444, 1.5899376559013119, 1.548751689526127, 1.0104552735732493]"
      ]
     },
     "execution_count": 22,
     "metadata": {},
     "output_type": "execute_result"
    }
   ],
   "source": [
    "vifs = [variance_inflation_factor(model.exog, i) for i in range(1,model.exog.shape[1])]\n",
    "vifs"
   ]
  },
  {
   "cell_type": "markdown",
   "metadata": {},
   "source": [
    "## モデルの評価と解釈"
   ]
  },
  {
   "cell_type": "markdown",
   "metadata": {},
   "source": [
    "### 決定係数によるモデル全体の評価 "
   ]
  },
  {
   "cell_type": "markdown",
   "metadata": {},
   "source": [
    "###  切片と偏回帰係数の解釈"
   ]
  },
  {
   "cell_type": "markdown",
   "metadata": {},
   "source": [
    "### 　単位の異なる説明変数が混在する場合う---標準偏回帰係数の算出"
   ]
  },
  {
   "cell_type": "markdown",
   "metadata": {},
   "source": [
    "信頼区間は、それぞれsummuryを実行したときに、表示されている。\\\n",
    "本の結果は、resultに出ている。"
   ]
  },
  {
   "cell_type": "code",
   "execution_count": 23,
   "metadata": {},
   "outputs": [],
   "source": [
    "from sklearn.preprocessing import StandardScaler"
   ]
  },
  {
   "cell_type": "code",
   "execution_count": 24,
   "metadata": {},
   "outputs": [],
   "source": [
    "ss = StandardScaler()"
   ]
  },
  {
   "cell_type": "code",
   "execution_count": 25,
   "metadata": {},
   "outputs": [],
   "source": [
    "df_scsdat = pd.DataFrame( ss.fit_transform(df_csdat), columns=df_csdat.columns)"
   ]
  },
  {
   "cell_type": "code",
   "execution_count": 26,
   "metadata": {},
   "outputs": [
    {
     "data": {
      "text/html": [
       "<table class=\"simpletable\">\n",
       "<caption>OLS Regression Results</caption>\n",
       "<tr>\n",
       "  <th>Dep. Variable:</th>           <td>顧客数</td>       <th>  R-squared:         </th> <td>   0.454</td>\n",
       "</tr>\n",
       "<tr>\n",
       "  <th>Model:</th>                   <td>OLS</td>       <th>  Adj. R-squared:    </th> <td>   0.414</td>\n",
       "</tr>\n",
       "<tr>\n",
       "  <th>Method:</th>             <td>Least Squares</td>  <th>  F-statistic:       </th> <td>   11.25</td>\n",
       "</tr>\n",
       "<tr>\n",
       "  <th>Date:</th>             <td>Fri, 13 Mar 2020</td> <th>  Prob (F-statistic):</th> <td>0.000280</td>\n",
       "</tr>\n",
       "<tr>\n",
       "  <th>Time:</th>                 <td>23:24:02</td>     <th>  Log-Likelihood:    </th> <td> -33.478</td>\n",
       "</tr>\n",
       "<tr>\n",
       "  <th>No. Observations:</th>      <td>    30</td>      <th>  AIC:               </th> <td>   72.96</td>\n",
       "</tr>\n",
       "<tr>\n",
       "  <th>Df Residuals:</th>          <td>    27</td>      <th>  BIC:               </th> <td>   77.16</td>\n",
       "</tr>\n",
       "<tr>\n",
       "  <th>Df Model:</th>              <td>     2</td>      <th>                     </th>     <td> </td>   \n",
       "</tr>\n",
       "<tr>\n",
       "  <th>Covariance Type:</th>      <td>nonrobust</td>    <th>                     </th>     <td> </td>   \n",
       "</tr>\n",
       "</table>\n",
       "<table class=\"simpletable\">\n",
       "<tr>\n",
       "      <td></td>         <th>coef</th>     <th>std err</th>      <th>t</th>      <th>P>|t|</th>  <th>[0.025</th>    <th>0.975]</th>  \n",
       "</tr>\n",
       "<tr>\n",
       "  <th>Intercept</th> <td> 2.498e-16</td> <td>    0.142</td> <td> 1.76e-15</td> <td> 1.000</td> <td>   -0.292</td> <td>    0.292</td>\n",
       "</tr>\n",
       "<tr>\n",
       "  <th>立地満足度</th>     <td>    0.4020</td> <td>    0.142</td> <td>    2.828</td> <td> 0.009</td> <td>    0.110</td> <td>    0.694</td>\n",
       "</tr>\n",
       "<tr>\n",
       "  <th>トレーナー数</th>    <td>    0.5317</td> <td>    0.142</td> <td>    3.739</td> <td> 0.001</td> <td>    0.240</td> <td>    0.823</td>\n",
       "</tr>\n",
       "</table>\n",
       "<table class=\"simpletable\">\n",
       "<tr>\n",
       "  <th>Omnibus:</th>       <td> 7.714</td> <th>  Durbin-Watson:     </th> <td>   2.202</td>\n",
       "</tr>\n",
       "<tr>\n",
       "  <th>Prob(Omnibus):</th> <td> 0.021</td> <th>  Jarque-Bera (JB):  </th> <td>   6.464</td>\n",
       "</tr>\n",
       "<tr>\n",
       "  <th>Skew:</th>          <td> 0.781</td> <th>  Prob(JB):          </th> <td>  0.0395</td>\n",
       "</tr>\n",
       "<tr>\n",
       "  <th>Kurtosis:</th>      <td> 4.653</td> <th>  Cond. No.          </th> <td>    1.02</td>\n",
       "</tr>\n",
       "</table><br/><br/>Warnings:<br/>[1] Standard Errors assume that the covariance matrix of the errors is correctly specified."
      ],
      "text/plain": [
       "<class 'statsmodels.iolib.summary.Summary'>\n",
       "\"\"\"\n",
       "                            OLS Regression Results                            \n",
       "==============================================================================\n",
       "Dep. Variable:                    顧客数   R-squared:                       0.454\n",
       "Model:                            OLS   Adj. R-squared:                  0.414\n",
       "Method:                 Least Squares   F-statistic:                     11.25\n",
       "Date:                Fri, 13 Mar 2020   Prob (F-statistic):           0.000280\n",
       "Time:                        23:24:02   Log-Likelihood:                -33.478\n",
       "No. Observations:                  30   AIC:                             72.96\n",
       "Df Residuals:                      27   BIC:                             77.16\n",
       "Df Model:                           2                                         \n",
       "Covariance Type:            nonrobust                                         \n",
       "==============================================================================\n",
       "                 coef    std err          t      P>|t|      [0.025      0.975]\n",
       "------------------------------------------------------------------------------\n",
       "Intercept   2.498e-16      0.142   1.76e-15      1.000      -0.292       0.292\n",
       "立地満足度          0.4020      0.142      2.828      0.009       0.110       0.694\n",
       "トレーナー数         0.5317      0.142      3.739      0.001       0.240       0.823\n",
       "==============================================================================\n",
       "Omnibus:                        7.714   Durbin-Watson:                   2.202\n",
       "Prob(Omnibus):                  0.021   Jarque-Bera (JB):                6.464\n",
       "Skew:                           0.781   Prob(JB):                       0.0395\n",
       "Kurtosis:                       4.653   Cond. No.                         1.02\n",
       "==============================================================================\n",
       "\n",
       "Warnings:\n",
       "[1] Standard Errors assume that the covariance matrix of the errors is correctly specified.\n",
       "\"\"\""
      ]
     },
     "execution_count": 26,
     "metadata": {},
     "output_type": "execute_result"
    }
   ],
   "source": [
    "model2 = ols(\"顧客数 ~ 立地満足度 + トレーナー数\", data = df_scsdat)\n",
    "res2 = model2.fit()\n",
    "res2.summary()"
   ]
  },
  {
   "cell_type": "markdown",
   "metadata": {},
   "source": [
    "## 報告例 "
   ]
  },
  {
   "cell_type": "markdown",
   "metadata": {},
   "source": [
    "## 質的変数を含む重回帰分析"
   ]
  },
  {
   "cell_type": "markdown",
   "metadata": {},
   "source": [
    "### 分析例"
   ]
  },
  {
   "cell_type": "code",
   "execution_count": 27,
   "metadata": {},
   "outputs": [
    {
     "data": {
      "text/html": [
       "<table class=\"simpletable\">\n",
       "<caption>OLS Regression Results</caption>\n",
       "<tr>\n",
       "  <th>Dep. Variable:</th>           <td>顧客数</td>       <th>  R-squared:         </th> <td>   0.857</td>\n",
       "</tr>\n",
       "<tr>\n",
       "  <th>Model:</th>                   <td>OLS</td>       <th>  Adj. R-squared:    </th> <td>   0.819</td>\n",
       "</tr>\n",
       "<tr>\n",
       "  <th>Method:</th>             <td>Least Squares</td>  <th>  F-statistic:       </th> <td>   22.90</td>\n",
       "</tr>\n",
       "<tr>\n",
       "  <th>Date:</th>             <td>Fri, 13 Mar 2020</td> <th>  Prob (F-statistic):</th> <td>1.27e-08</td>\n",
       "</tr>\n",
       "<tr>\n",
       "  <th>Time:</th>                 <td>23:24:02</td>     <th>  Log-Likelihood:    </th> <td> -151.11</td>\n",
       "</tr>\n",
       "<tr>\n",
       "  <th>No. Observations:</th>      <td>    30</td>      <th>  AIC:               </th> <td>   316.2</td>\n",
       "</tr>\n",
       "<tr>\n",
       "  <th>Df Residuals:</th>          <td>    23</td>      <th>  BIC:               </th> <td>   326.0</td>\n",
       "</tr>\n",
       "<tr>\n",
       "  <th>Df Model:</th>              <td>     6</td>      <th>                     </th>     <td> </td>   \n",
       "</tr>\n",
       "<tr>\n",
       "  <th>Covariance Type:</th>      <td>nonrobust</td>    <th>                     </th>     <td> </td>   \n",
       "</tr>\n",
       "</table>\n",
       "<table class=\"simpletable\">\n",
       "<tr>\n",
       "      <td></td>         <th>coef</th>     <th>std err</th>      <th>t</th>      <th>P>|t|</th>  <th>[0.025</th>    <th>0.975]</th>  \n",
       "</tr>\n",
       "<tr>\n",
       "  <th>Intercept</th> <td>  -13.8780</td> <td>   48.906</td> <td>   -0.284</td> <td> 0.779</td> <td> -115.048</td> <td>   87.292</td>\n",
       "</tr>\n",
       "<tr>\n",
       "  <th>立地満足度</th>     <td>   27.4875</td> <td>    5.544</td> <td>    4.958</td> <td> 0.000</td> <td>   16.019</td> <td>   38.956</td>\n",
       "</tr>\n",
       "<tr>\n",
       "  <th>設備満足度</th>     <td>   24.7446</td> <td>    6.779</td> <td>    3.650</td> <td> 0.001</td> <td>   10.721</td> <td>   38.768</td>\n",
       "</tr>\n",
       "<tr>\n",
       "  <th>店舗面積満足度</th>   <td>   17.9633</td> <td>    7.067</td> <td>    2.542</td> <td> 0.018</td> <td>    3.345</td> <td>   32.582</td>\n",
       "</tr>\n",
       "<tr>\n",
       "  <th>トレーナー満足度</th>  <td>   28.5150</td> <td>    5.592</td> <td>    5.099</td> <td> 0.000</td> <td>   16.947</td> <td>   40.083</td>\n",
       "</tr>\n",
       "<tr>\n",
       "  <th>接客研修</th>      <td>    8.0142</td> <td>   16.121</td> <td>    0.497</td> <td> 0.624</td> <td>  -25.336</td> <td>   41.364</td>\n",
       "</tr>\n",
       "<tr>\n",
       "  <th>入会特典</th>      <td>   40.1279</td> <td>   18.065</td> <td>    2.221</td> <td> 0.036</td> <td>    2.757</td> <td>   77.499</td>\n",
       "</tr>\n",
       "</table>\n",
       "<table class=\"simpletable\">\n",
       "<tr>\n",
       "  <th>Omnibus:</th>       <td> 1.983</td> <th>  Durbin-Watson:     </th> <td>   2.467</td>\n",
       "</tr>\n",
       "<tr>\n",
       "  <th>Prob(Omnibus):</th> <td> 0.371</td> <th>  Jarque-Bera (JB):  </th> <td>   1.064</td>\n",
       "</tr>\n",
       "<tr>\n",
       "  <th>Skew:</th>          <td> 0.443</td> <th>  Prob(JB):          </th> <td>   0.587</td>\n",
       "</tr>\n",
       "<tr>\n",
       "  <th>Kurtosis:</th>      <td> 3.257</td> <th>  Cond. No.          </th> <td>    64.9</td>\n",
       "</tr>\n",
       "</table><br/><br/>Warnings:<br/>[1] Standard Errors assume that the covariance matrix of the errors is correctly specified."
      ],
      "text/plain": [
       "<class 'statsmodels.iolib.summary.Summary'>\n",
       "\"\"\"\n",
       "                            OLS Regression Results                            \n",
       "==============================================================================\n",
       "Dep. Variable:                    顧客数   R-squared:                       0.857\n",
       "Model:                            OLS   Adj. R-squared:                  0.819\n",
       "Method:                 Least Squares   F-statistic:                     22.90\n",
       "Date:                Fri, 13 Mar 2020   Prob (F-statistic):           1.27e-08\n",
       "Time:                        23:24:02   Log-Likelihood:                -151.11\n",
       "No. Observations:                  30   AIC:                             316.2\n",
       "Df Residuals:                      23   BIC:                             326.0\n",
       "Df Model:                           6                                         \n",
       "Covariance Type:            nonrobust                                         \n",
       "==============================================================================\n",
       "                 coef    std err          t      P>|t|      [0.025      0.975]\n",
       "------------------------------------------------------------------------------\n",
       "Intercept    -13.8780     48.906     -0.284      0.779    -115.048      87.292\n",
       "立地満足度         27.4875      5.544      4.958      0.000      16.019      38.956\n",
       "設備満足度         24.7446      6.779      3.650      0.001      10.721      38.768\n",
       "店舗面積満足度       17.9633      7.067      2.542      0.018       3.345      32.582\n",
       "トレーナー満足度      28.5150      5.592      5.099      0.000      16.947      40.083\n",
       "接客研修           8.0142     16.121      0.497      0.624     -25.336      41.364\n",
       "入会特典          40.1279     18.065      2.221      0.036       2.757      77.499\n",
       "==============================================================================\n",
       "Omnibus:                        1.983   Durbin-Watson:                   2.467\n",
       "Prob(Omnibus):                  0.371   Jarque-Bera (JB):                1.064\n",
       "Skew:                           0.443   Prob(JB):                        0.587\n",
       "Kurtosis:                       3.257   Cond. No.                         64.9\n",
       "==============================================================================\n",
       "\n",
       "Warnings:\n",
       "[1] Standard Errors assume that the covariance matrix of the errors is correctly specified.\n",
       "\"\"\""
      ]
     },
     "execution_count": 27,
     "metadata": {},
     "output_type": "execute_result"
    }
   ],
   "source": [
    "model3 = ols(\"顧客数~立地満足度+設備満足度+店舗面積満足度+トレーナー満足度+接客研修+入会特典\", df_csdat)\n",
    "res3 =model3.fit()\n",
    "\n",
    "res3.summary()"
   ]
  },
  {
   "cell_type": "markdown",
   "metadata": {},
   "source": [
    "\n",
    "## AICとBICによるモデル評価"
   ]
  },
  {
   "cell_type": "code",
   "execution_count": 28,
   "metadata": {},
   "outputs": [
    {
     "data": {
      "text/plain": [
       "(318.21715022204046, 316.2114041852073)"
      ]
     },
     "execution_count": 28,
     "metadata": {},
     "output_type": "execute_result"
    }
   ],
   "source": [
    "res1.aic, res3.aic"
   ]
  },
  {
   "cell_type": "code",
   "execution_count": 29,
   "metadata": {},
   "outputs": [
    {
     "data": {
      "text/plain": [
       "(325.22313713035123, 326.0197858568424)"
      ]
     },
     "execution_count": 29,
     "metadata": {},
     "output_type": "execute_result"
    }
   ],
   "source": [
    "res1.bic, res3.bic"
   ]
  },
  {
   "cell_type": "markdown",
   "metadata": {},
   "source": [
    "結果は本とは異なるが、差が等しくなる結果になった。\\\n",
    "定数項の考え方の差があるのかなと思った。"
   ]
  },
  {
   "cell_type": "markdown",
   "metadata": {},
   "source": [
    "## 重回帰分析と母数推定理論"
   ]
  },
  {
   "cell_type": "markdown",
   "metadata": {},
   "source": [
    "### 最小二乗法による母数推定の概要 "
   ]
  },
  {
   "cell_type": "markdown",
   "metadata": {},
   "source": [
    "### 最尤法による母数推定の概要 "
   ]
  },
  {
   "cell_type": "markdown",
   "metadata": {},
   "source": [
    "## 偏回帰係数の解釈"
   ]
  },
  {
   "cell_type": "markdown",
   "metadata": {},
   "source": [
    "## 決定係数とその検定"
   ]
  },
  {
   "cell_type": "markdown",
   "metadata": {},
   "source": [
    "## 切片と偏相関係数の検定"
   ]
  },
  {
   "cell_type": "code",
   "execution_count": 33,
   "metadata": {},
   "outputs": [],
   "source": [
    "import scipy.stats as st"
   ]
  },
  {
   "cell_type": "code",
   "execution_count": 37,
   "metadata": {},
   "outputs": [
    {
     "data": {
      "text/plain": [
       "0.49350552168447603"
      ]
     },
     "execution_count": 37,
     "metadata": {},
     "output_type": "execute_result"
    }
   ],
   "source": [
    "st.t.cdf(res1.tvalues.Intercept, df = 25)*2"
   ]
  },
  {
   "cell_type": "code",
   "execution_count": 38,
   "metadata": {},
   "outputs": [
    {
     "data": {
      "text/plain": [
       "0.005030246354448709"
      ]
     },
     "execution_count": 38,
     "metadata": {},
     "output_type": "execute_result"
    }
   ],
   "source": [
    "(1 - st.t.cdf(res1.tvalues.設備満足度, df = 25))*2"
   ]
  },
  {
   "cell_type": "markdown",
   "metadata": {},
   "source": [
    "## 切片と偏回帰係数の信頼区間"
   ]
  },
  {
   "cell_type": "markdown",
   "metadata": {},
   "source": [
    "いろいろRではやっているが、statsmodelでは表示されている。"
   ]
  },
  {
   "cell_type": "code",
   "execution_count": 41,
   "metadata": {},
   "outputs": [
    {
     "data": {
      "text/html": [
       "<table class=\"simpletable\">\n",
       "<caption>OLS Regression Results</caption>\n",
       "<tr>\n",
       "  <th>Dep. Variable:</th>           <td>顧客数</td>       <th>  R-squared:         </th> <td>   0.825</td>\n",
       "</tr>\n",
       "<tr>\n",
       "  <th>Model:</th>                   <td>OLS</td>       <th>  Adj. R-squared:    </th> <td>   0.797</td>\n",
       "</tr>\n",
       "<tr>\n",
       "  <th>Method:</th>             <td>Least Squares</td>  <th>  F-statistic:       </th> <td>   29.43</td>\n",
       "</tr>\n",
       "<tr>\n",
       "  <th>Date:</th>             <td>Fri, 13 Mar 2020</td> <th>  Prob (F-statistic):</th> <td>3.96e-09</td>\n",
       "</tr>\n",
       "<tr>\n",
       "  <th>Time:</th>                 <td>23:28:25</td>     <th>  Log-Likelihood:    </th> <td> -154.11</td>\n",
       "</tr>\n",
       "<tr>\n",
       "  <th>No. Observations:</th>      <td>    30</td>      <th>  AIC:               </th> <td>   318.2</td>\n",
       "</tr>\n",
       "<tr>\n",
       "  <th>Df Residuals:</th>          <td>    25</td>      <th>  BIC:               </th> <td>   325.2</td>\n",
       "</tr>\n",
       "<tr>\n",
       "  <th>Df Model:</th>              <td>     4</td>      <th>                     </th>     <td> </td>   \n",
       "</tr>\n",
       "<tr>\n",
       "  <th>Covariance Type:</th>      <td>nonrobust</td>    <th>                     </th>     <td> </td>   \n",
       "</tr>\n",
       "</table>\n",
       "<table class=\"simpletable\">\n",
       "<tr>\n",
       "      <td></td>         <th>coef</th>     <th>std err</th>      <th>t</th>      <th>P>|t|</th>  <th>[0.025</th>    <th>0.975]</th>  \n",
       "</tr>\n",
       "<tr>\n",
       "  <th>Intercept</th> <td>  -35.2045</td> <td>   50.659</td> <td>   -0.695</td> <td> 0.494</td> <td> -139.538</td> <td>   69.129</td>\n",
       "</tr>\n",
       "<tr>\n",
       "  <th>立地満足度</th>     <td>   29.1053</td> <td>    5.684</td> <td>    5.120</td> <td> 0.000</td> <td>   17.398</td> <td>   40.812</td>\n",
       "</tr>\n",
       "<tr>\n",
       "  <th>設備満足度</th>     <td>   21.6397</td> <td>    7.036</td> <td>    3.076</td> <td> 0.005</td> <td>    7.149</td> <td>   36.130</td>\n",
       "</tr>\n",
       "<tr>\n",
       "  <th>店舗面積満足度</th>   <td>   23.8030</td> <td>    6.971</td> <td>    3.414</td> <td> 0.002</td> <td>    9.445</td> <td>   38.161</td>\n",
       "</tr>\n",
       "<tr>\n",
       "  <th>トレーナー満足度</th>  <td>   32.4213</td> <td>    5.608</td> <td>    5.781</td> <td> 0.000</td> <td>   20.872</td> <td>   43.971</td>\n",
       "</tr>\n",
       "</table>\n",
       "<table class=\"simpletable\">\n",
       "<tr>\n",
       "  <th>Omnibus:</th>       <td> 1.851</td> <th>  Durbin-Watson:     </th> <td>   2.505</td>\n",
       "</tr>\n",
       "<tr>\n",
       "  <th>Prob(Omnibus):</th> <td> 0.396</td> <th>  Jarque-Bera (JB):  </th> <td>   1.479</td>\n",
       "</tr>\n",
       "<tr>\n",
       "  <th>Skew:</th>          <td> 0.533</td> <th>  Prob(JB):          </th> <td>   0.477</td>\n",
       "</tr>\n",
       "<tr>\n",
       "  <th>Kurtosis:</th>      <td> 2.780</td> <th>  Cond. No.          </th> <td>    63.0</td>\n",
       "</tr>\n",
       "</table><br/><br/>Warnings:<br/>[1] Standard Errors assume that the covariance matrix of the errors is correctly specified."
      ],
      "text/plain": [
       "<class 'statsmodels.iolib.summary.Summary'>\n",
       "\"\"\"\n",
       "                            OLS Regression Results                            \n",
       "==============================================================================\n",
       "Dep. Variable:                    顧客数   R-squared:                       0.825\n",
       "Model:                            OLS   Adj. R-squared:                  0.797\n",
       "Method:                 Least Squares   F-statistic:                     29.43\n",
       "Date:                Fri, 13 Mar 2020   Prob (F-statistic):           3.96e-09\n",
       "Time:                        23:28:25   Log-Likelihood:                -154.11\n",
       "No. Observations:                  30   AIC:                             318.2\n",
       "Df Residuals:                      25   BIC:                             325.2\n",
       "Df Model:                           4                                         \n",
       "Covariance Type:            nonrobust                                         \n",
       "==============================================================================\n",
       "                 coef    std err          t      P>|t|      [0.025      0.975]\n",
       "------------------------------------------------------------------------------\n",
       "Intercept    -35.2045     50.659     -0.695      0.494    -139.538      69.129\n",
       "立地満足度         29.1053      5.684      5.120      0.000      17.398      40.812\n",
       "設備満足度         21.6397      7.036      3.076      0.005       7.149      36.130\n",
       "店舗面積満足度       23.8030      6.971      3.414      0.002       9.445      38.161\n",
       "トレーナー満足度      32.4213      5.608      5.781      0.000      20.872      43.971\n",
       "==============================================================================\n",
       "Omnibus:                        1.851   Durbin-Watson:                   2.505\n",
       "Prob(Omnibus):                  0.396   Jarque-Bera (JB):                1.479\n",
       "Skew:                           0.533   Prob(JB):                        0.477\n",
       "Kurtosis:                       2.780   Cond. No.                         63.0\n",
       "==============================================================================\n",
       "\n",
       "Warnings:\n",
       "[1] Standard Errors assume that the covariance matrix of the errors is correctly specified.\n",
       "\"\"\""
      ]
     },
     "execution_count": 41,
     "metadata": {},
     "output_type": "execute_result"
    }
   ],
   "source": [
    "res1.summary()"
   ]
  },
  {
   "cell_type": "markdown",
   "metadata": {},
   "source": [
    "## VIFの理論"
   ]
  }
 ],
 "metadata": {
  "kernelspec": {
   "display_name": "Python 3",
   "language": "python",
   "name": "python3"
  },
  "language_info": {
   "codemirror_mode": {
    "name": "ipython",
    "version": 3
   },
   "file_extension": ".py",
   "mimetype": "text/x-python",
   "name": "python",
   "nbconvert_exporter": "python",
   "pygments_lexer": "ipython3",
   "version": "3.7.6"
  },
  "toc-autonumbering": true,
  "toc-showmarkdowntxt": true
 },
 "nbformat": 4,
 "nbformat_minor": 4
}
