{
 "cells": [
  {
   "cell_type": "markdown",
   "metadata": {},
   "source": [
    "# 第4章 現象を説明・予測する統計モデルを作りたい(2) <br> ----階層的重回帰分析"
   ]
  },
  {
   "cell_type": "markdown",
   "metadata": {},
   "source": [
    "階層的重回帰分析って初めて聞く。なんだろうか楽しみだな。"
   ]
  },
  {
   "cell_type": "code",
   "execution_count": 2,
   "metadata": {},
   "outputs": [],
   "source": [
    "import pandas as pd\n",
    "import numpy as np \n",
    "from sklearn.preprocessing import StandardScaler\n",
    "import scipy.stats as st\n",
    "\n",
    "import statsmodels.api as sm\n",
    "import statsmodels.formula.api as sfm\n",
    "\n",
    "from statsmodels.formula.api import ols"
   ]
  },
  {
   "cell_type": "markdown",
   "metadata": {},
   "source": [
    "## データと手法の概要"
   ]
  },
  {
   "cell_type": "markdown",
   "metadata": {},
   "source": [
    "### データの概要"
   ]
  },
  {
   "cell_type": "markdown",
   "metadata": {},
   "source": [
    "### 分析の目的と概要 "
   ]
  },
  {
   "cell_type": "markdown",
   "metadata": {},
   "source": [
    "## 階層的重回帰分析 "
   ]
  },
  {
   "cell_type": "markdown",
   "metadata": {},
   "source": [
    "階層的重回帰分析は変数の数変えて比較するみたいな感じか。\\\n",
    "ただ定量的に比較できるとうれしい。"
   ]
  },
  {
   "cell_type": "markdown",
   "metadata": {},
   "source": [
    "### モデル作成 "
   ]
  },
  {
   "cell_type": "markdown",
   "metadata": {},
   "source": [
    "### 階層的重回帰分析の実行 "
   ]
  },
  {
   "cell_type": "code",
   "execution_count": 3,
   "metadata": {},
   "outputs": [],
   "source": [
    "df_sts = pd.read_csv(\"../data/第04章/ストレス.csv\", \n",
    "                     encoding=\"shift-jis\")"
   ]
  },
  {
   "cell_type": "code",
   "execution_count": 4,
   "metadata": {},
   "outputs": [
    {
     "data": {
      "text/html": [
       "<div>\n",
       "<style scoped>\n",
       "    .dataframe tbody tr th:only-of-type {\n",
       "        vertical-align: middle;\n",
       "    }\n",
       "\n",
       "    .dataframe tbody tr th {\n",
       "        vertical-align: top;\n",
       "    }\n",
       "\n",
       "    .dataframe thead th {\n",
       "        text-align: right;\n",
       "    }\n",
       "</style>\n",
       "<table border=\"1\" class=\"dataframe\">\n",
       "  <thead>\n",
       "    <tr style=\"text-align: right;\">\n",
       "      <th></th>\n",
       "      <th>ストレス</th>\n",
       "      <th>サポート</th>\n",
       "      <th>バーンアウト1</th>\n",
       "      <th>バーンアウト2</th>\n",
       "    </tr>\n",
       "  </thead>\n",
       "  <tbody>\n",
       "    <tr>\n",
       "      <th>0</th>\n",
       "      <td>2.9</td>\n",
       "      <td>3.3</td>\n",
       "      <td>2.2</td>\n",
       "      <td>2.3</td>\n",
       "    </tr>\n",
       "    <tr>\n",
       "      <th>1</th>\n",
       "      <td>3.1</td>\n",
       "      <td>3.6</td>\n",
       "      <td>2.7</td>\n",
       "      <td>3.0</td>\n",
       "    </tr>\n",
       "    <tr>\n",
       "      <th>2</th>\n",
       "      <td>2.3</td>\n",
       "      <td>3.5</td>\n",
       "      <td>3.1</td>\n",
       "      <td>3.3</td>\n",
       "    </tr>\n",
       "    <tr>\n",
       "      <th>3</th>\n",
       "      <td>3.7</td>\n",
       "      <td>3.2</td>\n",
       "      <td>3.4</td>\n",
       "      <td>2.7</td>\n",
       "    </tr>\n",
       "    <tr>\n",
       "      <th>4</th>\n",
       "      <td>3.7</td>\n",
       "      <td>3.3</td>\n",
       "      <td>3.7</td>\n",
       "      <td>3.5</td>\n",
       "    </tr>\n",
       "  </tbody>\n",
       "</table>\n",
       "</div>"
      ],
      "text/plain": [
       "   ストレス  サポート  バーンアウト1  バーンアウト2\n",
       "0   2.9   3.3      2.2      2.3\n",
       "1   3.1   3.6      2.7      3.0\n",
       "2   2.3   3.5      3.1      3.3\n",
       "3   3.7   3.2      3.4      2.7\n",
       "4   3.7   3.3      3.7      3.5"
      ]
     },
     "execution_count": 4,
     "metadata": {},
     "output_type": "execute_result"
    }
   ],
   "source": [
    "df_sts.head()"
   ]
  },
  {
   "cell_type": "code",
   "execution_count": 5,
   "metadata": {},
   "outputs": [
    {
     "data": {
      "text/html": [
       "<table class=\"simpletable\">\n",
       "<caption>OLS Regression Results</caption>\n",
       "<tr>\n",
       "  <th>Dep. Variable:</th>         <td>バーンアウト2</td>     <th>  R-squared:         </th> <td>   0.404</td>\n",
       "</tr>\n",
       "<tr>\n",
       "  <th>Model:</th>                   <td>OLS</td>       <th>  Adj. R-squared:    </th> <td>   0.402</td>\n",
       "</tr>\n",
       "<tr>\n",
       "  <th>Method:</th>             <td>Least Squares</td>  <th>  F-statistic:       </th> <td>   202.0</td>\n",
       "</tr>\n",
       "<tr>\n",
       "  <th>Date:</th>             <td>Fri, 20 Mar 2020</td> <th>  Prob (F-statistic):</th> <td>2.38e-35</td>\n",
       "</tr>\n",
       "<tr>\n",
       "  <th>Time:</th>                 <td>20:44:32</td>     <th>  Log-Likelihood:    </th> <td> -106.66</td>\n",
       "</tr>\n",
       "<tr>\n",
       "  <th>No. Observations:</th>      <td>   300</td>      <th>  AIC:               </th> <td>   217.3</td>\n",
       "</tr>\n",
       "<tr>\n",
       "  <th>Df Residuals:</th>          <td>   298</td>      <th>  BIC:               </th> <td>   224.7</td>\n",
       "</tr>\n",
       "<tr>\n",
       "  <th>Df Model:</th>              <td>     1</td>      <th>                     </th>     <td> </td>   \n",
       "</tr>\n",
       "<tr>\n",
       "  <th>Covariance Type:</th>      <td>nonrobust</td>    <th>                     </th>     <td> </td>   \n",
       "</tr>\n",
       "</table>\n",
       "<table class=\"simpletable\">\n",
       "<tr>\n",
       "      <td></td>         <th>coef</th>     <th>std err</th>      <th>t</th>      <th>P>|t|</th>  <th>[0.025</th>    <th>0.975]</th>  \n",
       "</tr>\n",
       "<tr>\n",
       "  <th>Intercept</th> <td>    1.0762</td> <td>    0.118</td> <td>    9.087</td> <td> 0.000</td> <td>    0.843</td> <td>    1.309</td>\n",
       "</tr>\n",
       "<tr>\n",
       "  <th>バーンアウト1</th>   <td>    0.6125</td> <td>    0.043</td> <td>   14.211</td> <td> 0.000</td> <td>    0.528</td> <td>    0.697</td>\n",
       "</tr>\n",
       "</table>\n",
       "<table class=\"simpletable\">\n",
       "<tr>\n",
       "  <th>Omnibus:</th>       <td>24.543</td> <th>  Durbin-Watson:     </th> <td>   1.979</td>\n",
       "</tr>\n",
       "<tr>\n",
       "  <th>Prob(Omnibus):</th> <td> 0.000</td> <th>  Jarque-Bera (JB):  </th> <td>  68.624</td>\n",
       "</tr>\n",
       "<tr>\n",
       "  <th>Skew:</th>          <td>-0.307</td> <th>  Prob(JB):          </th> <td>1.25e-15</td>\n",
       "</tr>\n",
       "<tr>\n",
       "  <th>Kurtosis:</th>      <td> 5.261</td> <th>  Cond. No.          </th> <td>    18.4</td>\n",
       "</tr>\n",
       "</table><br/><br/>Warnings:<br/>[1] Standard Errors assume that the covariance matrix of the errors is correctly specified."
      ],
      "text/plain": [
       "<class 'statsmodels.iolib.summary.Summary'>\n",
       "\"\"\"\n",
       "                            OLS Regression Results                            \n",
       "==============================================================================\n",
       "Dep. Variable:                バーンアウト2   R-squared:                       0.404\n",
       "Model:                            OLS   Adj. R-squared:                  0.402\n",
       "Method:                 Least Squares   F-statistic:                     202.0\n",
       "Date:                Fri, 20 Mar 2020   Prob (F-statistic):           2.38e-35\n",
       "Time:                        20:44:32   Log-Likelihood:                -106.66\n",
       "No. Observations:                 300   AIC:                             217.3\n",
       "Df Residuals:                     298   BIC:                             224.7\n",
       "Df Model:                           1                                         \n",
       "Covariance Type:            nonrobust                                         \n",
       "==============================================================================\n",
       "                 coef    std err          t      P>|t|      [0.025      0.975]\n",
       "------------------------------------------------------------------------------\n",
       "Intercept      1.0762      0.118      9.087      0.000       0.843       1.309\n",
       "バーンアウト1        0.6125      0.043     14.211      0.000       0.528       0.697\n",
       "==============================================================================\n",
       "Omnibus:                       24.543   Durbin-Watson:                   1.979\n",
       "Prob(Omnibus):                  0.000   Jarque-Bera (JB):               68.624\n",
       "Skew:                          -0.307   Prob(JB):                     1.25e-15\n",
       "Kurtosis:                       5.261   Cond. No.                         18.4\n",
       "==============================================================================\n",
       "\n",
       "Warnings:\n",
       "[1] Standard Errors assume that the covariance matrix of the errors is correctly specified.\n",
       "\"\"\""
      ]
     },
     "execution_count": 5,
     "metadata": {},
     "output_type": "execute_result"
    }
   ],
   "source": [
    "model1 = ols(\"バーンアウト2~バーンアウト1\", data=df_sts)\n",
    "res1 = model1.fit()\n",
    "\n",
    "res1.summary()"
   ]
  },
  {
   "cell_type": "code",
   "execution_count": 6,
   "metadata": {},
   "outputs": [
    {
     "data": {
      "text/html": [
       "<table class=\"simpletable\">\n",
       "<caption>OLS Regression Results</caption>\n",
       "<tr>\n",
       "  <th>Dep. Variable:</th>         <td>バーンアウト2</td>     <th>  R-squared:         </th> <td>   0.417</td>\n",
       "</tr>\n",
       "<tr>\n",
       "  <th>Model:</th>                   <td>OLS</td>       <th>  Adj. R-squared:    </th> <td>   0.411</td>\n",
       "</tr>\n",
       "<tr>\n",
       "  <th>Method:</th>             <td>Least Squares</td>  <th>  F-statistic:       </th> <td>   70.52</td>\n",
       "</tr>\n",
       "<tr>\n",
       "  <th>Date:</th>             <td>Fri, 20 Mar 2020</td> <th>  Prob (F-statistic):</th> <td>1.95e-34</td>\n",
       "</tr>\n",
       "<tr>\n",
       "  <th>Time:</th>                 <td>20:44:32</td>     <th>  Log-Likelihood:    </th> <td> -103.39</td>\n",
       "</tr>\n",
       "<tr>\n",
       "  <th>No. Observations:</th>      <td>   300</td>      <th>  AIC:               </th> <td>   214.8</td>\n",
       "</tr>\n",
       "<tr>\n",
       "  <th>Df Residuals:</th>          <td>   296</td>      <th>  BIC:               </th> <td>   229.6</td>\n",
       "</tr>\n",
       "<tr>\n",
       "  <th>Df Model:</th>              <td>     3</td>      <th>                     </th>     <td> </td>   \n",
       "</tr>\n",
       "<tr>\n",
       "  <th>Covariance Type:</th>      <td>nonrobust</td>    <th>                     </th>     <td> </td>   \n",
       "</tr>\n",
       "</table>\n",
       "<table class=\"simpletable\">\n",
       "<tr>\n",
       "      <td></td>         <th>coef</th>     <th>std err</th>      <th>t</th>      <th>P>|t|</th>  <th>[0.025</th>    <th>0.975]</th>  \n",
       "</tr>\n",
       "<tr>\n",
       "  <th>Intercept</th> <td>    1.1923</td> <td>    0.209</td> <td>    5.704</td> <td> 0.000</td> <td>    0.781</td> <td>    1.604</td>\n",
       "</tr>\n",
       "<tr>\n",
       "  <th>バーンアウト1</th>   <td>    0.5801</td> <td>    0.045</td> <td>   12.989</td> <td> 0.000</td> <td>    0.492</td> <td>    0.668</td>\n",
       "</tr>\n",
       "<tr>\n",
       "  <th>ストレス</th>      <td>    0.0742</td> <td>    0.035</td> <td>    2.149</td> <td> 0.032</td> <td>    0.006</td> <td>    0.142</td>\n",
       "</tr>\n",
       "<tr>\n",
       "  <th>サポート</th>      <td>   -0.0809</td> <td>    0.048</td> <td>   -1.696</td> <td> 0.091</td> <td>   -0.175</td> <td>    0.013</td>\n",
       "</tr>\n",
       "</table>\n",
       "<table class=\"simpletable\">\n",
       "<tr>\n",
       "  <th>Omnibus:</th>       <td>22.823</td> <th>  Durbin-Watson:     </th> <td>   1.953</td>\n",
       "</tr>\n",
       "<tr>\n",
       "  <th>Prob(Omnibus):</th> <td> 0.000</td> <th>  Jarque-Bera (JB):  </th> <td>  69.813</td>\n",
       "</tr>\n",
       "<tr>\n",
       "  <th>Skew:</th>          <td>-0.219</td> <th>  Prob(JB):          </th> <td>6.92e-16</td>\n",
       "</tr>\n",
       "<tr>\n",
       "  <th>Kurtosis:</th>      <td> 5.322</td> <th>  Cond. No.          </th> <td>    57.4</td>\n",
       "</tr>\n",
       "</table><br/><br/>Warnings:<br/>[1] Standard Errors assume that the covariance matrix of the errors is correctly specified."
      ],
      "text/plain": [
       "<class 'statsmodels.iolib.summary.Summary'>\n",
       "\"\"\"\n",
       "                            OLS Regression Results                            \n",
       "==============================================================================\n",
       "Dep. Variable:                バーンアウト2   R-squared:                       0.417\n",
       "Model:                            OLS   Adj. R-squared:                  0.411\n",
       "Method:                 Least Squares   F-statistic:                     70.52\n",
       "Date:                Fri, 20 Mar 2020   Prob (F-statistic):           1.95e-34\n",
       "Time:                        20:44:32   Log-Likelihood:                -103.39\n",
       "No. Observations:                 300   AIC:                             214.8\n",
       "Df Residuals:                     296   BIC:                             229.6\n",
       "Df Model:                           3                                         \n",
       "Covariance Type:            nonrobust                                         \n",
       "==============================================================================\n",
       "                 coef    std err          t      P>|t|      [0.025      0.975]\n",
       "------------------------------------------------------------------------------\n",
       "Intercept      1.1923      0.209      5.704      0.000       0.781       1.604\n",
       "バーンアウト1        0.5801      0.045     12.989      0.000       0.492       0.668\n",
       "ストレス           0.0742      0.035      2.149      0.032       0.006       0.142\n",
       "サポート          -0.0809      0.048     -1.696      0.091      -0.175       0.013\n",
       "==============================================================================\n",
       "Omnibus:                       22.823   Durbin-Watson:                   1.953\n",
       "Prob(Omnibus):                  0.000   Jarque-Bera (JB):               69.813\n",
       "Skew:                          -0.219   Prob(JB):                     6.92e-16\n",
       "Kurtosis:                       5.322   Cond. No.                         57.4\n",
       "==============================================================================\n",
       "\n",
       "Warnings:\n",
       "[1] Standard Errors assume that the covariance matrix of the errors is correctly specified.\n",
       "\"\"\""
      ]
     },
     "execution_count": 6,
     "metadata": {},
     "output_type": "execute_result"
    }
   ],
   "source": [
    "model2 = ols(\"バーンアウト2~バーンアウト1+ストレス+サポート\", data=df_sts)\n",
    "res2 = model2.fit()\n",
    "\n",
    "res2.summary()"
   ]
  },
  {
   "cell_type": "markdown",
   "metadata": {},
   "source": [
    "二回重回帰分析をすることで、その係数や、R2の変化をみてそれぞれの回帰が説明できているかを考えてる\\\n",
    "こんな時は見てみよう"
   ]
  },
  {
   "cell_type": "markdown",
   "metadata": {},
   "source": [
    "### 決定係数の増分に関する検定 "
   ]
  },
  {
   "cell_type": "code",
   "execution_count": 7,
   "metadata": {},
   "outputs": [
    {
     "data": {
      "text/plain": [
       "3.2641870958134342"
      ]
     },
     "execution_count": 7,
     "metadata": {},
     "output_type": "execute_result"
    }
   ],
   "source": [
    "F_1 = (res2.rsquared - res1.rsquared ) / (res2.df_model-res1.df_model)\n",
    "F_2 = (1-res2.rsquared) / (len(df_sts)-res2.df_model-1)\n",
    "F_1 / F_2 "
   ]
  },
  {
   "cell_type": "markdown",
   "metadata": {},
   "source": [
    "本との差は使う数値の桁数によるものと考えられる。"
   ]
  },
  {
   "cell_type": "code",
   "execution_count": 8,
   "metadata": {},
   "outputs": [
    {
     "data": {
      "text/plain": [
       "3.273662551440335"
      ]
     },
     "execution_count": 8,
     "metadata": {},
     "output_type": "execute_result"
    }
   ],
   "source": [
    "F_12 = (round(res2.rsquared ,4)- round(res1.rsquared ,4)) / (res2.df_model-res1.df_model)\n",
    "F_22 = (1-round(res2.rsquared ,4)) / (len(df_sts)-res2.df_model-1)\n",
    "F_12 / F_22 "
   ]
  },
  {
   "cell_type": "markdown",
   "metadata": {},
   "source": [
    "これで値がそろった。"
   ]
  },
  {
   "cell_type": "code",
   "execution_count": 9,
   "metadata": {},
   "outputs": [
    {
     "data": {
      "text/plain": [
       "0.03924300313771112"
      ]
     },
     "execution_count": 9,
     "metadata": {},
     "output_type": "execute_result"
    }
   ],
   "source": [
    "1 - st.f.cdf(F_12 / F_22 , dfn = 2, dfd = 296)"
   ]
  },
  {
   "cell_type": "markdown",
   "metadata": {},
   "source": [
    "次のAnovaについての検定は上で作成したFについて検定するだけなので、省略。\\\n",
    "ただ結果を引数にできるのは、Rの便利さだな。"
   ]
  },
  {
   "cell_type": "markdown",
   "metadata": {},
   "source": [
    "### AICとBICによるモデルの比較"
   ]
  },
  {
   "cell_type": "code",
   "execution_count": 10,
   "metadata": {},
   "outputs": [
    {
     "data": {
      "text/plain": [
       "(217.3169588000103, 214.77227348143902)"
      ]
     },
     "execution_count": 10,
     "metadata": {},
     "output_type": "execute_result"
    }
   ],
   "source": [
    "res1.aic,  res2.aic"
   ]
  },
  {
   "cell_type": "code",
   "execution_count": 11,
   "metadata": {},
   "outputs": [
    {
     "data": {
      "text/plain": [
       "(224.7245237493227, 229.58740338006382)"
      ]
     },
     "execution_count": 11,
     "metadata": {},
     "output_type": "execute_result"
    }
   ],
   "source": [
    "res1.bic , res2.bic"
   ]
  },
  {
   "cell_type": "markdown",
   "metadata": {},
   "source": [
    "## 重回帰分析での交互作用効果の検討"
   ]
  },
  {
   "cell_type": "markdown",
   "metadata": {},
   "source": [
    "### 交互作用効果を検討するためのモデル"
   ]
  },
  {
   "cell_type": "markdown",
   "metadata": {},
   "source": [
    "### 中心化"
   ]
  },
  {
   "cell_type": "code",
   "execution_count": 12,
   "metadata": {},
   "outputs": [],
   "source": [
    "df_sts[\"ストレス_中心化\"] = df_sts[\"ストレス\"]-df_sts[\"ストレス\"].mean()\n",
    "df_sts[\"サポート_中心化\"] = df_sts[\"サポート\"]-df_sts[\"サポート\"].mean()"
   ]
  },
  {
   "cell_type": "code",
   "execution_count": 13,
   "metadata": {},
   "outputs": [],
   "source": [
    "df_sts[\"交互作用\"] = df_sts[\"ストレス\"]*df_sts[\"サポート\"]\n",
    "df_sts[\"交互作用_中心化\"] = df_sts[\"ストレス_中心化\"]*df_sts[\"サポート_中心化\"]"
   ]
  },
  {
   "cell_type": "code",
   "execution_count": 14,
   "metadata": {},
   "outputs": [
    {
     "data": {
      "text/html": [
       "<div>\n",
       "<style scoped>\n",
       "    .dataframe tbody tr th:only-of-type {\n",
       "        vertical-align: middle;\n",
       "    }\n",
       "\n",
       "    .dataframe tbody tr th {\n",
       "        vertical-align: top;\n",
       "    }\n",
       "\n",
       "    .dataframe thead th {\n",
       "        text-align: right;\n",
       "    }\n",
       "</style>\n",
       "<table border=\"1\" class=\"dataframe\">\n",
       "  <thead>\n",
       "    <tr style=\"text-align: right;\">\n",
       "      <th></th>\n",
       "      <th>ストレス</th>\n",
       "      <th>サポート</th>\n",
       "      <th>交互作用</th>\n",
       "    </tr>\n",
       "  </thead>\n",
       "  <tbody>\n",
       "    <tr>\n",
       "      <th>ストレス</th>\n",
       "      <td>1.000000</td>\n",
       "      <td>0.118076</td>\n",
       "      <td>0.848102</td>\n",
       "    </tr>\n",
       "    <tr>\n",
       "      <th>サポート</th>\n",
       "      <td>0.118076</td>\n",
       "      <td>1.000000</td>\n",
       "      <td>0.609125</td>\n",
       "    </tr>\n",
       "    <tr>\n",
       "      <th>交互作用</th>\n",
       "      <td>0.848102</td>\n",
       "      <td>0.609125</td>\n",
       "      <td>1.000000</td>\n",
       "    </tr>\n",
       "  </tbody>\n",
       "</table>\n",
       "</div>"
      ],
      "text/plain": [
       "          ストレス      サポート      交互作用\n",
       "ストレス  1.000000  0.118076  0.848102\n",
       "サポート  0.118076  1.000000  0.609125\n",
       "交互作用  0.848102  0.609125  1.000000"
      ]
     },
     "execution_count": 14,
     "metadata": {},
     "output_type": "execute_result"
    }
   ],
   "source": [
    "df_sts[[\"ストレス\",\"サポート\", \"交互作用\" ]].corr()"
   ]
  },
  {
   "cell_type": "code",
   "execution_count": 15,
   "metadata": {},
   "outputs": [],
   "source": [
    "import matplotlib.pyplot as plt"
   ]
  },
  {
   "cell_type": "code",
   "execution_count": 16,
   "metadata": {},
   "outputs": [
    {
     "data": {
      "text/html": [
       "<div>\n",
       "<style scoped>\n",
       "    .dataframe tbody tr th:only-of-type {\n",
       "        vertical-align: middle;\n",
       "    }\n",
       "\n",
       "    .dataframe tbody tr th {\n",
       "        vertical-align: top;\n",
       "    }\n",
       "\n",
       "    .dataframe thead th {\n",
       "        text-align: right;\n",
       "    }\n",
       "</style>\n",
       "<table border=\"1\" class=\"dataframe\">\n",
       "  <thead>\n",
       "    <tr style=\"text-align: right;\">\n",
       "      <th></th>\n",
       "      <th>ストレス_中心化</th>\n",
       "      <th>サポート_中心化</th>\n",
       "      <th>交互作用_中心化</th>\n",
       "    </tr>\n",
       "  </thead>\n",
       "  <tbody>\n",
       "    <tr>\n",
       "      <th>ストレス_中心化</th>\n",
       "      <td>1.000000</td>\n",
       "      <td>0.118076</td>\n",
       "      <td>-0.099772</td>\n",
       "    </tr>\n",
       "    <tr>\n",
       "      <th>サポート_中心化</th>\n",
       "      <td>0.118076</td>\n",
       "      <td>1.000000</td>\n",
       "      <td>-0.235947</td>\n",
       "    </tr>\n",
       "    <tr>\n",
       "      <th>交互作用_中心化</th>\n",
       "      <td>-0.099772</td>\n",
       "      <td>-0.235947</td>\n",
       "      <td>1.000000</td>\n",
       "    </tr>\n",
       "  </tbody>\n",
       "</table>\n",
       "</div>"
      ],
      "text/plain": [
       "          ストレス_中心化  サポート_中心化  交互作用_中心化\n",
       "ストレス_中心化  1.000000  0.118076 -0.099772\n",
       "サポート_中心化  0.118076  1.000000 -0.235947\n",
       "交互作用_中心化 -0.099772 -0.235947  1.000000"
      ]
     },
     "execution_count": 16,
     "metadata": {},
     "output_type": "execute_result"
    }
   ],
   "source": [
    "df_sts[[\"ストレス_中心化\",\"サポート_中心化\", \"交互作用_中心化\" ]].corr()"
   ]
  },
  {
   "cell_type": "markdown",
   "metadata": {},
   "source": [
    "### 交互作用効果の検討 "
   ]
  },
  {
   "cell_type": "code",
   "execution_count": 17,
   "metadata": {},
   "outputs": [],
   "source": [
    "df_sts[\"バーンアウト1_中心化\"] =df_sts[\"バーンアウト1\"]-df_sts[\"バーンアウト1\"].mean() "
   ]
  },
  {
   "cell_type": "code",
   "execution_count": 18,
   "metadata": {},
   "outputs": [
    {
     "data": {
      "text/html": [
       "<table class=\"simpletable\">\n",
       "<caption>OLS Regression Results</caption>\n",
       "<tr>\n",
       "  <th>Dep. Variable:</th>         <td>バーンアウト2</td>     <th>  R-squared:         </th> <td>   0.429</td>\n",
       "</tr>\n",
       "<tr>\n",
       "  <th>Model:</th>                   <td>OLS</td>       <th>  Adj. R-squared:    </th> <td>   0.422</td>\n",
       "</tr>\n",
       "<tr>\n",
       "  <th>Method:</th>             <td>Least Squares</td>  <th>  F-statistic:       </th> <td>   55.48</td>\n",
       "</tr>\n",
       "<tr>\n",
       "  <th>Date:</th>             <td>Fri, 20 Mar 2020</td> <th>  Prob (F-statistic):</th> <td>7.55e-35</td>\n",
       "</tr>\n",
       "<tr>\n",
       "  <th>Time:</th>                 <td>20:44:33</td>     <th>  Log-Likelihood:    </th> <td> -100.14</td>\n",
       "</tr>\n",
       "<tr>\n",
       "  <th>No. Observations:</th>      <td>   300</td>      <th>  AIC:               </th> <td>   210.3</td>\n",
       "</tr>\n",
       "<tr>\n",
       "  <th>Df Residuals:</th>          <td>   295</td>      <th>  BIC:               </th> <td>   228.8</td>\n",
       "</tr>\n",
       "<tr>\n",
       "  <th>Df Model:</th>              <td>     4</td>      <th>                     </th>     <td> </td>   \n",
       "</tr>\n",
       "<tr>\n",
       "  <th>Covariance Type:</th>      <td>nonrobust</td>    <th>                     </th>     <td> </td>   \n",
       "</tr>\n",
       "</table>\n",
       "<table class=\"simpletable\">\n",
       "<tr>\n",
       "          <td></td>             <th>coef</th>     <th>std err</th>      <th>t</th>      <th>P>|t|</th>  <th>[0.025</th>    <th>0.975]</th>  \n",
       "</tr>\n",
       "<tr>\n",
       "  <th>Intercept</th>         <td>    2.7397</td> <td>    0.020</td> <td>  138.673</td> <td> 0.000</td> <td>    2.701</td> <td>    2.779</td>\n",
       "</tr>\n",
       "<tr>\n",
       "  <th>バーンアウト1_中心化</th>       <td>    0.5715</td> <td>    0.044</td> <td>   12.878</td> <td> 0.000</td> <td>    0.484</td> <td>    0.659</td>\n",
       "</tr>\n",
       "<tr>\n",
       "  <th>サポート_中心化</th>          <td>   -0.1101</td> <td>    0.049</td> <td>   -2.263</td> <td> 0.024</td> <td>   -0.206</td> <td>   -0.014</td>\n",
       "</tr>\n",
       "<tr>\n",
       "  <th>ストレス_中心化</th>          <td>    0.0696</td> <td>    0.034</td> <td>    2.032</td> <td> 0.043</td> <td>    0.002</td> <td>    0.137</td>\n",
       "</tr>\n",
       "<tr>\n",
       "  <th>サポート_中心化:ストレス_中心化</th> <td>   -0.1556</td> <td>    0.061</td> <td>   -2.542</td> <td> 0.012</td> <td>   -0.276</td> <td>   -0.035</td>\n",
       "</tr>\n",
       "</table>\n",
       "<table class=\"simpletable\">\n",
       "<tr>\n",
       "  <th>Omnibus:</th>       <td>23.121</td> <th>  Durbin-Watson:     </th> <td>   1.955</td>\n",
       "</tr>\n",
       "<tr>\n",
       "  <th>Prob(Omnibus):</th> <td> 0.000</td> <th>  Jarque-Bera (JB):  </th> <td>  67.951</td>\n",
       "</tr>\n",
       "<tr>\n",
       "  <th>Skew:</th>          <td>-0.249</td> <th>  Prob(JB):          </th> <td>1.76e-15</td>\n",
       "</tr>\n",
       "<tr>\n",
       "  <th>Kurtosis:</th>      <td> 5.278</td> <th>  Cond. No.          </th> <td>    3.26</td>\n",
       "</tr>\n",
       "</table><br/><br/>Warnings:<br/>[1] Standard Errors assume that the covariance matrix of the errors is correctly specified."
      ],
      "text/plain": [
       "<class 'statsmodels.iolib.summary.Summary'>\n",
       "\"\"\"\n",
       "                            OLS Regression Results                            \n",
       "==============================================================================\n",
       "Dep. Variable:                バーンアウト2   R-squared:                       0.429\n",
       "Model:                            OLS   Adj. R-squared:                  0.422\n",
       "Method:                 Least Squares   F-statistic:                     55.48\n",
       "Date:                Fri, 20 Mar 2020   Prob (F-statistic):           7.55e-35\n",
       "Time:                        20:44:33   Log-Likelihood:                -100.14\n",
       "No. Observations:                 300   AIC:                             210.3\n",
       "Df Residuals:                     295   BIC:                             228.8\n",
       "Df Model:                           4                                         \n",
       "Covariance Type:            nonrobust                                         \n",
       "=====================================================================================\n",
       "                        coef    std err          t      P>|t|      [0.025      0.975]\n",
       "-------------------------------------------------------------------------------------\n",
       "Intercept             2.7397      0.020    138.673      0.000       2.701       2.779\n",
       "バーンアウト1_中心化           0.5715      0.044     12.878      0.000       0.484       0.659\n",
       "サポート_中心化             -0.1101      0.049     -2.263      0.024      -0.206      -0.014\n",
       "ストレス_中心化              0.0696      0.034      2.032      0.043       0.002       0.137\n",
       "サポート_中心化:ストレス_中心化    -0.1556      0.061     -2.542      0.012      -0.276      -0.035\n",
       "==============================================================================\n",
       "Omnibus:                       23.121   Durbin-Watson:                   1.955\n",
       "Prob(Omnibus):                  0.000   Jarque-Bera (JB):               67.951\n",
       "Skew:                          -0.249   Prob(JB):                     1.76e-15\n",
       "Kurtosis:                       5.278   Cond. No.                         3.26\n",
       "==============================================================================\n",
       "\n",
       "Warnings:\n",
       "[1] Standard Errors assume that the covariance matrix of the errors is correctly specified.\n",
       "\"\"\""
      ]
     },
     "execution_count": 18,
     "metadata": {},
     "output_type": "execute_result"
    }
   ],
   "source": [
    "model3 = ols(\"バーンアウト2 ~ バーンアウト1_中心化 + サポート_中心化 + ストレス_中心化+サポート_中心化*ストレス_中心化\",\n",
    "          data = df_sts)\n",
    "res3 = model3.fit()\n",
    "res3.summary()"
   ]
  },
  {
   "cell_type": "code",
   "execution_count": 19,
   "metadata": {},
   "outputs": [],
   "source": [
    "def anova(res1, res2):\n",
    "    F_12 = (res2.rsquared - res1.rsquared ) / (res2.df_model-res1.df_model)\n",
    "    F_22 = (1-res2.rsquared ) / (len(df_sts)-res2.df_model-1)\n",
    "    print(f\"F statisitc :{F_12 / F_22}\") \n",
    "    \n",
    "    DFN = res2.df_model-res1.df_model\n",
    "    DFD = len(df_sts)-res2.df_model-1\n",
    "    pval = 1 - st.f.cdf(F_12 / F_22 , dfn = DFN, dfd = DFD)\n",
    "    print(f\"p_val       : {pval}\")"
   ]
  },
  {
   "cell_type": "code",
   "execution_count": 20,
   "metadata": {},
   "outputs": [
    {
     "name": "stdout",
     "output_type": "stream",
     "text": [
      "F statisitc :6.460902479969797\n",
      "p_val       : 0.011538977610857093\n"
     ]
    }
   ],
   "source": [
    "anova(res2, res3)"
   ]
  },
  {
   "cell_type": "markdown",
   "metadata": {},
   "source": [
    "### 標準偏回帰係数の算出"
   ]
  },
  {
   "cell_type": "code",
   "execution_count": 21,
   "metadata": {},
   "outputs": [],
   "source": [
    "from scipy import stats as st"
   ]
  },
  {
   "cell_type": "code",
   "execution_count": 22,
   "metadata": {},
   "outputs": [],
   "source": [
    "df_z_sts = pd.DataFrame(st.zscore(df_sts, axis = 0), columns=df_sts.columns)"
   ]
  },
  {
   "cell_type": "code",
   "execution_count": 23,
   "metadata": {},
   "outputs": [
    {
     "data": {
      "text/html": [
       "<table class=\"simpletable\">\n",
       "<caption>OLS Regression Results</caption>\n",
       "<tr>\n",
       "  <th>Dep. Variable:</th>         <td>バーンアウト2</td>     <th>  R-squared:         </th> <td>   0.429</td>\n",
       "</tr>\n",
       "<tr>\n",
       "  <th>Model:</th>                   <td>OLS</td>       <th>  Adj. R-squared:    </th> <td>   0.422</td>\n",
       "</tr>\n",
       "<tr>\n",
       "  <th>Method:</th>             <td>Least Squares</td>  <th>  F-statistic:       </th> <td>   55.48</td>\n",
       "</tr>\n",
       "<tr>\n",
       "  <th>Date:</th>             <td>Fri, 20 Mar 2020</td> <th>  Prob (F-statistic):</th> <td>7.55e-35</td>\n",
       "</tr>\n",
       "<tr>\n",
       "  <th>Time:</th>                 <td>20:44:33</td>     <th>  Log-Likelihood:    </th> <td> -341.55</td>\n",
       "</tr>\n",
       "<tr>\n",
       "  <th>No. Observations:</th>      <td>   300</td>      <th>  AIC:               </th> <td>   693.1</td>\n",
       "</tr>\n",
       "<tr>\n",
       "  <th>Df Residuals:</th>          <td>   295</td>      <th>  BIC:               </th> <td>   711.6</td>\n",
       "</tr>\n",
       "<tr>\n",
       "  <th>Df Model:</th>              <td>     4</td>      <th>                     </th>     <td> </td>   \n",
       "</tr>\n",
       "<tr>\n",
       "  <th>Covariance Type:</th>      <td>nonrobust</td>    <th>                     </th>     <td> </td>   \n",
       "</tr>\n",
       "</table>\n",
       "<table class=\"simpletable\">\n",
       "<tr>\n",
       "      <td></td>         <th>coef</th>     <th>std err</th>      <th>t</th>      <th>P>|t|</th>  <th>[0.025</th>    <th>0.975]</th>  \n",
       "</tr>\n",
       "<tr>\n",
       "  <th>Intercept</th> <td>    0.0105</td> <td>    0.044</td> <td>    0.237</td> <td> 0.813</td> <td>   -0.076</td> <td>    0.097</td>\n",
       "</tr>\n",
       "<tr>\n",
       "  <th>バーンアウト1</th>   <td>    0.5931</td> <td>    0.046</td> <td>   12.878</td> <td> 0.000</td> <td>    0.502</td> <td>    0.684</td>\n",
       "</tr>\n",
       "<tr>\n",
       "  <th>サポート</th>      <td>   -0.1045</td> <td>    0.046</td> <td>   -2.263</td> <td> 0.024</td> <td>   -0.195</td> <td>   -0.014</td>\n",
       "</tr>\n",
       "<tr>\n",
       "  <th>ストレス</th>      <td>    0.0934</td> <td>    0.046</td> <td>    2.032</td> <td> 0.043</td> <td>    0.003</td> <td>    0.184</td>\n",
       "</tr>\n",
       "<tr>\n",
       "  <th>サポート:ストレス</th> <td>   -0.0886</td> <td>    0.035</td> <td>   -2.542</td> <td> 0.012</td> <td>   -0.157</td> <td>   -0.020</td>\n",
       "</tr>\n",
       "</table>\n",
       "<table class=\"simpletable\">\n",
       "<tr>\n",
       "  <th>Omnibus:</th>       <td>23.121</td> <th>  Durbin-Watson:     </th> <td>   1.955</td>\n",
       "</tr>\n",
       "<tr>\n",
       "  <th>Prob(Omnibus):</th> <td> 0.000</td> <th>  Jarque-Bera (JB):  </th> <td>  67.951</td>\n",
       "</tr>\n",
       "<tr>\n",
       "  <th>Skew:</th>          <td>-0.249</td> <th>  Prob(JB):          </th> <td>1.76e-15</td>\n",
       "</tr>\n",
       "<tr>\n",
       "  <th>Kurtosis:</th>      <td> 5.278</td> <th>  Cond. No.          </th> <td>    1.70</td>\n",
       "</tr>\n",
       "</table><br/><br/>Warnings:<br/>[1] Standard Errors assume that the covariance matrix of the errors is correctly specified."
      ],
      "text/plain": [
       "<class 'statsmodels.iolib.summary.Summary'>\n",
       "\"\"\"\n",
       "                            OLS Regression Results                            \n",
       "==============================================================================\n",
       "Dep. Variable:                バーンアウト2   R-squared:                       0.429\n",
       "Model:                            OLS   Adj. R-squared:                  0.422\n",
       "Method:                 Least Squares   F-statistic:                     55.48\n",
       "Date:                Fri, 20 Mar 2020   Prob (F-statistic):           7.55e-35\n",
       "Time:                        20:44:33   Log-Likelihood:                -341.55\n",
       "No. Observations:                 300   AIC:                             693.1\n",
       "Df Residuals:                     295   BIC:                             711.6\n",
       "Df Model:                           4                                         \n",
       "Covariance Type:            nonrobust                                         \n",
       "==============================================================================\n",
       "                 coef    std err          t      P>|t|      [0.025      0.975]\n",
       "------------------------------------------------------------------------------\n",
       "Intercept      0.0105      0.044      0.237      0.813      -0.076       0.097\n",
       "バーンアウト1        0.5931      0.046     12.878      0.000       0.502       0.684\n",
       "サポート          -0.1045      0.046     -2.263      0.024      -0.195      -0.014\n",
       "ストレス           0.0934      0.046      2.032      0.043       0.003       0.184\n",
       "サポート:ストレス     -0.0886      0.035     -2.542      0.012      -0.157      -0.020\n",
       "==============================================================================\n",
       "Omnibus:                       23.121   Durbin-Watson:                   1.955\n",
       "Prob(Omnibus):                  0.000   Jarque-Bera (JB):               67.951\n",
       "Skew:                          -0.249   Prob(JB):                     1.76e-15\n",
       "Kurtosis:                       5.278   Cond. No.                         1.70\n",
       "==============================================================================\n",
       "\n",
       "Warnings:\n",
       "[1] Standard Errors assume that the covariance matrix of the errors is correctly specified.\n",
       "\"\"\""
      ]
     },
     "execution_count": 23,
     "metadata": {},
     "output_type": "execute_result"
    }
   ],
   "source": [
    "model3_z = ols(\"バーンアウト2 ~ バーンアウト1 + サポート + ストレス+サポート*ストレス\",\n",
    "          data = df_z_sts)\n",
    "res3_z = model3_z.fit()\n",
    "res3_z.summary()"
   ]
  },
  {
   "cell_type": "markdown",
   "metadata": {},
   "source": [
    "## 単純傾斜分析 "
   ]
  },
  {
   "cell_type": "markdown",
   "metadata": {},
   "source": [
    "### 単純傾斜分析の方法"
   ]
  },
  {
   "cell_type": "markdown",
   "metadata": {},
   "source": [
    "### 単純傾斜分析の実行"
   ]
  },
  {
   "cell_type": "code",
   "execution_count": 24,
   "metadata": {},
   "outputs": [],
   "source": [
    "df_sts[\"サポート_h\"] = df_sts[\"サポート_中心化\"] - df_sts[\"サポート_中心化\"].std(ddof=1) "
   ]
  },
  {
   "cell_type": "code",
   "execution_count": 25,
   "metadata": {},
   "outputs": [
    {
     "data": {
      "text/html": [
       "<table class=\"simpletable\">\n",
       "<caption>OLS Regression Results</caption>\n",
       "<tr>\n",
       "  <th>Dep. Variable:</th>         <td>バーンアウト2</td>     <th>  R-squared:         </th> <td>   0.429</td>\n",
       "</tr>\n",
       "<tr>\n",
       "  <th>Model:</th>                   <td>OLS</td>       <th>  Adj. R-squared:    </th> <td>   0.422</td>\n",
       "</tr>\n",
       "<tr>\n",
       "  <th>Method:</th>             <td>Least Squares</td>  <th>  F-statistic:       </th> <td>   55.48</td>\n",
       "</tr>\n",
       "<tr>\n",
       "  <th>Date:</th>             <td>Fri, 20 Mar 2020</td> <th>  Prob (F-statistic):</th> <td>7.55e-35</td>\n",
       "</tr>\n",
       "<tr>\n",
       "  <th>Time:</th>                 <td>20:44:33</td>     <th>  Log-Likelihood:    </th> <td> -100.14</td>\n",
       "</tr>\n",
       "<tr>\n",
       "  <th>No. Observations:</th>      <td>   300</td>      <th>  AIC:               </th> <td>   210.3</td>\n",
       "</tr>\n",
       "<tr>\n",
       "  <th>Df Residuals:</th>          <td>   295</td>      <th>  BIC:               </th> <td>   228.8</td>\n",
       "</tr>\n",
       "<tr>\n",
       "  <th>Df Model:</th>              <td>     4</td>      <th>                     </th>     <td> </td>   \n",
       "</tr>\n",
       "<tr>\n",
       "  <th>Covariance Type:</th>      <td>nonrobust</td>    <th>                     </th>     <td> </td>   \n",
       "</tr>\n",
       "</table>\n",
       "<table class=\"simpletable\">\n",
       "<tr>\n",
       "         <td></td>            <th>coef</th>     <th>std err</th>      <th>t</th>      <th>P>|t|</th>  <th>[0.025</th>    <th>0.975]</th>  \n",
       "</tr>\n",
       "<tr>\n",
       "  <th>Intercept</th>       <td>    1.1450</td> <td>    0.120</td> <td>    9.532</td> <td> 0.000</td> <td>    0.909</td> <td>    1.381</td>\n",
       "</tr>\n",
       "<tr>\n",
       "  <th>バーンアウト1</th>         <td>    0.5715</td> <td>    0.044</td> <td>   12.878</td> <td> 0.000</td> <td>    0.484</td> <td>    0.659</td>\n",
       "</tr>\n",
       "<tr>\n",
       "  <th>ストレス_中心化</th>        <td>    0.0035</td> <td>    0.044</td> <td>    0.079</td> <td> 0.937</td> <td>   -0.083</td> <td>    0.090</td>\n",
       "</tr>\n",
       "<tr>\n",
       "  <th>サポート_h</th>          <td>   -0.1101</td> <td>    0.049</td> <td>   -2.263</td> <td> 0.024</td> <td>   -0.206</td> <td>   -0.014</td>\n",
       "</tr>\n",
       "<tr>\n",
       "  <th>サポート_h:ストレス_中心化</th> <td>   -0.1556</td> <td>    0.061</td> <td>   -2.542</td> <td> 0.012</td> <td>   -0.276</td> <td>   -0.035</td>\n",
       "</tr>\n",
       "</table>\n",
       "<table class=\"simpletable\">\n",
       "<tr>\n",
       "  <th>Omnibus:</th>       <td>23.121</td> <th>  Durbin-Watson:     </th> <td>   1.955</td>\n",
       "</tr>\n",
       "<tr>\n",
       "  <th>Prob(Omnibus):</th> <td> 0.000</td> <th>  Jarque-Bera (JB):  </th> <td>  67.951</td>\n",
       "</tr>\n",
       "<tr>\n",
       "  <th>Skew:</th>          <td>-0.249</td> <th>  Prob(JB):          </th> <td>1.76e-15</td>\n",
       "</tr>\n",
       "<tr>\n",
       "  <th>Kurtosis:</th>      <td> 5.278</td> <th>  Cond. No.          </th> <td>    19.2</td>\n",
       "</tr>\n",
       "</table><br/><br/>Warnings:<br/>[1] Standard Errors assume that the covariance matrix of the errors is correctly specified."
      ],
      "text/plain": [
       "<class 'statsmodels.iolib.summary.Summary'>\n",
       "\"\"\"\n",
       "                            OLS Regression Results                            \n",
       "==============================================================================\n",
       "Dep. Variable:                バーンアウト2   R-squared:                       0.429\n",
       "Model:                            OLS   Adj. R-squared:                  0.422\n",
       "Method:                 Least Squares   F-statistic:                     55.48\n",
       "Date:                Fri, 20 Mar 2020   Prob (F-statistic):           7.55e-35\n",
       "Time:                        20:44:33   Log-Likelihood:                -100.14\n",
       "No. Observations:                 300   AIC:                             210.3\n",
       "Df Residuals:                     295   BIC:                             228.8\n",
       "Df Model:                           4                                         \n",
       "Covariance Type:            nonrobust                                         \n",
       "===================================================================================\n",
       "                      coef    std err          t      P>|t|      [0.025      0.975]\n",
       "-----------------------------------------------------------------------------------\n",
       "Intercept           1.1450      0.120      9.532      0.000       0.909       1.381\n",
       "バーンアウト1             0.5715      0.044     12.878      0.000       0.484       0.659\n",
       "ストレス_中心化            0.0035      0.044      0.079      0.937      -0.083       0.090\n",
       "サポート_h             -0.1101      0.049     -2.263      0.024      -0.206      -0.014\n",
       "サポート_h:ストレス_中心化    -0.1556      0.061     -2.542      0.012      -0.276      -0.035\n",
       "==============================================================================\n",
       "Omnibus:                       23.121   Durbin-Watson:                   1.955\n",
       "Prob(Omnibus):                  0.000   Jarque-Bera (JB):               67.951\n",
       "Skew:                          -0.249   Prob(JB):                     1.76e-15\n",
       "Kurtosis:                       5.278   Cond. No.                         19.2\n",
       "==============================================================================\n",
       "\n",
       "Warnings:\n",
       "[1] Standard Errors assume that the covariance matrix of the errors is correctly specified.\n",
       "\"\"\""
      ]
     },
     "execution_count": 25,
     "metadata": {},
     "output_type": "execute_result"
    }
   ],
   "source": [
    "model3_h = ols(\"バーンアウト2 ~ バーンアウト1 + ストレス_中心化+ サポート_h +サポート_h*ストレス_中心化\",\n",
    "          data = df_sts)\n",
    "res3_h = model3_h.fit()\n",
    "res3_h.summary()"
   ]
  },
  {
   "cell_type": "code",
   "execution_count": 26,
   "metadata": {},
   "outputs": [],
   "source": [
    "df_sts[\"サポート_l\"] = df_sts[\"サポート_中心化\"] + df_sts[\"サポート_中心化\"].std(ddof=1) "
   ]
  },
  {
   "cell_type": "code",
   "execution_count": 27,
   "metadata": {},
   "outputs": [
    {
     "data": {
      "text/html": [
       "<table class=\"simpletable\">\n",
       "<caption>OLS Regression Results</caption>\n",
       "<tr>\n",
       "  <th>Dep. Variable:</th>         <td>バーンアウト2</td>     <th>  R-squared:         </th> <td>   0.429</td>\n",
       "</tr>\n",
       "<tr>\n",
       "  <th>Model:</th>                   <td>OLS</td>       <th>  Adj. R-squared:    </th> <td>   0.422</td>\n",
       "</tr>\n",
       "<tr>\n",
       "  <th>Method:</th>             <td>Least Squares</td>  <th>  F-statistic:       </th> <td>   55.48</td>\n",
       "</tr>\n",
       "<tr>\n",
       "  <th>Date:</th>             <td>Fri, 20 Mar 2020</td> <th>  Prob (F-statistic):</th> <td>7.55e-35</td>\n",
       "</tr>\n",
       "<tr>\n",
       "  <th>Time:</th>                 <td>20:44:33</td>     <th>  Log-Likelihood:    </th> <td> -100.14</td>\n",
       "</tr>\n",
       "<tr>\n",
       "  <th>No. Observations:</th>      <td>   300</td>      <th>  AIC:               </th> <td>   210.3</td>\n",
       "</tr>\n",
       "<tr>\n",
       "  <th>Df Residuals:</th>          <td>   295</td>      <th>  BIC:               </th> <td>   228.8</td>\n",
       "</tr>\n",
       "<tr>\n",
       "  <th>Df Model:</th>              <td>     4</td>      <th>                     </th>     <td> </td>   \n",
       "</tr>\n",
       "<tr>\n",
       "  <th>Covariance Type:</th>      <td>nonrobust</td>    <th>                     </th>     <td> </td>   \n",
       "</tr>\n",
       "</table>\n",
       "<table class=\"simpletable\">\n",
       "<tr>\n",
       "         <td></td>            <th>coef</th>     <th>std err</th>      <th>t</th>      <th>P>|t|</th>  <th>[0.025</th>    <th>0.975]</th>  \n",
       "</tr>\n",
       "<tr>\n",
       "  <th>Intercept</th>       <td>    1.1450</td> <td>    0.120</td> <td>    9.532</td> <td> 0.000</td> <td>    0.909</td> <td>    1.381</td>\n",
       "</tr>\n",
       "<tr>\n",
       "  <th>バーンアウト1</th>         <td>    0.5715</td> <td>    0.044</td> <td>   12.878</td> <td> 0.000</td> <td>    0.484</td> <td>    0.659</td>\n",
       "</tr>\n",
       "<tr>\n",
       "  <th>ストレス_中心化</th>        <td>    0.0035</td> <td>    0.044</td> <td>    0.079</td> <td> 0.937</td> <td>   -0.083</td> <td>    0.090</td>\n",
       "</tr>\n",
       "<tr>\n",
       "  <th>サポート_h</th>          <td>   -0.1101</td> <td>    0.049</td> <td>   -2.263</td> <td> 0.024</td> <td>   -0.206</td> <td>   -0.014</td>\n",
       "</tr>\n",
       "<tr>\n",
       "  <th>サポート_h:ストレス_中心化</th> <td>   -0.1556</td> <td>    0.061</td> <td>   -2.542</td> <td> 0.012</td> <td>   -0.276</td> <td>   -0.035</td>\n",
       "</tr>\n",
       "</table>\n",
       "<table class=\"simpletable\">\n",
       "<tr>\n",
       "  <th>Omnibus:</th>       <td>23.121</td> <th>  Durbin-Watson:     </th> <td>   1.955</td>\n",
       "</tr>\n",
       "<tr>\n",
       "  <th>Prob(Omnibus):</th> <td> 0.000</td> <th>  Jarque-Bera (JB):  </th> <td>  67.951</td>\n",
       "</tr>\n",
       "<tr>\n",
       "  <th>Skew:</th>          <td>-0.249</td> <th>  Prob(JB):          </th> <td>1.76e-15</td>\n",
       "</tr>\n",
       "<tr>\n",
       "  <th>Kurtosis:</th>      <td> 5.278</td> <th>  Cond. No.          </th> <td>    19.2</td>\n",
       "</tr>\n",
       "</table><br/><br/>Warnings:<br/>[1] Standard Errors assume that the covariance matrix of the errors is correctly specified."
      ],
      "text/plain": [
       "<class 'statsmodels.iolib.summary.Summary'>\n",
       "\"\"\"\n",
       "                            OLS Regression Results                            \n",
       "==============================================================================\n",
       "Dep. Variable:                バーンアウト2   R-squared:                       0.429\n",
       "Model:                            OLS   Adj. R-squared:                  0.422\n",
       "Method:                 Least Squares   F-statistic:                     55.48\n",
       "Date:                Fri, 20 Mar 2020   Prob (F-statistic):           7.55e-35\n",
       "Time:                        20:44:33   Log-Likelihood:                -100.14\n",
       "No. Observations:                 300   AIC:                             210.3\n",
       "Df Residuals:                     295   BIC:                             228.8\n",
       "Df Model:                           4                                         \n",
       "Covariance Type:            nonrobust                                         \n",
       "===================================================================================\n",
       "                      coef    std err          t      P>|t|      [0.025      0.975]\n",
       "-----------------------------------------------------------------------------------\n",
       "Intercept           1.1450      0.120      9.532      0.000       0.909       1.381\n",
       "バーンアウト1             0.5715      0.044     12.878      0.000       0.484       0.659\n",
       "ストレス_中心化            0.0035      0.044      0.079      0.937      -0.083       0.090\n",
       "サポート_h             -0.1101      0.049     -2.263      0.024      -0.206      -0.014\n",
       "サポート_h:ストレス_中心化    -0.1556      0.061     -2.542      0.012      -0.276      -0.035\n",
       "==============================================================================\n",
       "Omnibus:                       23.121   Durbin-Watson:                   1.955\n",
       "Prob(Omnibus):                  0.000   Jarque-Bera (JB):               67.951\n",
       "Skew:                          -0.249   Prob(JB):                     1.76e-15\n",
       "Kurtosis:                       5.278   Cond. No.                         19.2\n",
       "==============================================================================\n",
       "\n",
       "Warnings:\n",
       "[1] Standard Errors assume that the covariance matrix of the errors is correctly specified.\n",
       "\"\"\""
      ]
     },
     "execution_count": 27,
     "metadata": {},
     "output_type": "execute_result"
    }
   ],
   "source": [
    "model3_l = ols(\"バーンアウト2 ~ バーンアウト1 + ストレス_中心化+ サポート_l +サポート_l*ストレス_中心化\",\n",
    "          data = df_sts)\n",
    "res3_l = model3_h.fit()\n",
    "res3_l.summary()"
   ]
  },
  {
   "cell_type": "markdown",
   "metadata": {},
   "source": [
    "### 交互作用効果のグラフ"
   ]
  },
  {
   "cell_type": "markdown",
   "metadata": {},
   "source": [
    "## 報告例"
   ]
  },
  {
   "cell_type": "markdown",
   "metadata": {},
   "source": [
    "## 重回帰分析における変数選択"
   ]
  },
  {
   "cell_type": "markdown",
   "metadata": {},
   "source": [
    "### 変数選択とは"
   ]
  },
  {
   "cell_type": "markdown",
   "metadata": {},
   "source": [
    "### 変数の実行 "
   ]
  },
  {
   "cell_type": "code",
   "execution_count": 28,
   "metadata": {},
   "outputs": [],
   "source": [
    "df_bsb = pd.read_csv(\"../data/第04章/野球.csv\", encoding=\"shift-jis\")"
   ]
  },
  {
   "cell_type": "markdown",
   "metadata": {},
   "source": [
    "StepAICはpythonになかったが、以下のURlを参考にした。\n",
    "https://future-chem.com/esol-reg-aic/#stepwise_regression"
   ]
  },
  {
   "cell_type": "code",
   "execution_count": 29,
   "metadata": {},
   "outputs": [],
   "source": [
    "import statsmodels.formula.api as smf\n",
    "import itertools"
   ]
  },
  {
   "cell_type": "code",
   "execution_count": 84,
   "metadata": {},
   "outputs": [
    {
     "name": "stdout",
     "output_type": "stream",
     "text": [
      "==============================================================================\n",
      "                 coef    std err          t      P>|t|      [0.025      0.975]\n",
      "------------------------------------------------------------------------------\n",
      "Intercept   1657.8607    873.064      1.899      0.060     -67.714    3383.436\n",
      "打数            15.2037      5.103      2.979      0.003       5.118      25.289\n",
      "本塁打          415.4792     77.501      5.361      0.000     262.301     568.657\n",
      "四球           107.1365     35.415      3.025      0.003      37.140     177.133\n",
      "三振           -73.7160     22.589     -3.263      0.001    -118.362     -29.070\n",
      "==============================================================================\n"
     ]
    }
   ],
   "source": [
    "def stepAIC(target, df):\n",
    "    import copy\n",
    "    descriptors = list(df.columns[df.columns!=target])\n",
    "    \n",
    "    formula = '{} ~ '.format(target) + ' + '.join(descriptors)\n",
    "    \n",
    "    f_model = smf.ols(formula=formula, data=df).fit()\n",
    "    best_aic = f_model.aic\n",
    "    best_model = f_model\n",
    "    \n",
    "    while descriptors:\n",
    "        desc_selected = ''\n",
    "        flag = 0\n",
    "        for desk in descriptors:\n",
    "            used_desks = copy.deepcopy(descriptors)\n",
    "            used_desks.remove(desk)\n",
    "            formula = '{} ~ '.format(target) + ' + '.join( used_desks)\n",
    "            model = smf.ols(formula=formula, data=df).fit()\n",
    "            if model.aic < best_aic:\n",
    "                best_aic = model.aic\n",
    "                best_model = model\n",
    "                desc_selected = desk\n",
    "                flag = 1\n",
    "        if flag:\n",
    "            descriptors.remove(desc_selected)\n",
    "        else:\n",
    "            break\n",
    "    return best_model\n",
    " \n",
    "model_a = stepAIC(target = \"年俸\",df = df_bsb)\n",
    "print(model_a.summary().tables[1])"
   ]
  },
  {
   "cell_type": "code",
   "execution_count": null,
   "metadata": {},
   "outputs": [],
   "source": []
  }
 ],
 "metadata": {
  "kernelspec": {
   "display_name": "Python 3.7.6 64-bit ('mvabyR': conda)",
   "language": "python",
   "name": "python37664bitmvabyrconda8543ffede4714687a536e11de6ad4416"
  },
  "language_info": {
   "codemirror_mode": {
    "name": "ipython",
    "version": 3
   },
   "file_extension": ".py",
   "mimetype": "text/x-python",
   "name": "python",
   "nbconvert_exporter": "python",
   "pygments_lexer": "ipython3",
   "version": "3.7.6"
  }
 },
 "nbformat": 4,
 "nbformat_minor": 4
}
